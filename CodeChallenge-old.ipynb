{
 "cells": [
  {
   "cell_type": "code",
   "execution_count": 1,
   "metadata": {
    "collapsed": false
   },
   "outputs": [],
   "source": [
    "import pandas as pd\n",
    "import numpy as np\n",
    "import sklearn\n",
    "from sklearn import preprocessing\n",
    "\n",
    "from scipy.stats import ttest_ind\n",
    "\n",
    "import matplotlib.pyplot as plt\n",
    "%matplotlib inline\n",
    "#plot within python notebook\n",
    "\n",
    "import sys\n",
    "if sys.version_info >= (3, 0):\n",
    "    print(\"Error: You are running Python 3.x. This pynb is written in Python 2.\")"
   ]
  },
  {
   "cell_type": "markdown",
   "metadata": {},
   "source": [
    "# Part 1: Python Coding and Data Set"
   ]
  },
  {
   "cell_type": "markdown",
   "metadata": {},
   "source": [
    "## Loading The Data"
   ]
  },
  {
   "cell_type": "code",
   "execution_count": 2,
   "metadata": {
    "collapsed": false
   },
   "outputs": [],
   "source": [
    "# Load data\n",
    "bc = pd.read_csv('breast-cancer.csv', header=None)\n",
    "\n"
   ]
  },
  {
   "cell_type": "markdown",
   "metadata": {},
   "source": [
    "## Loading and Applying the Field/Column Names"
   ]
  },
  {
   "cell_type": "code",
   "execution_count": 3,
   "metadata": {
    "collapsed": false
   },
   "outputs": [
    {
     "name": "stdout",
     "output_type": "stream",
     "text": [
      "Column Headers:\n",
      "\n",
      "ID\n",
      "diagnosis\n",
      "radius_mean\n",
      "radius_sd_error\n",
      "radius_worst\n",
      "texture_mean\n",
      "texture_sd_error\n",
      "texture_worst\n",
      "perimeter_mean\n",
      "perimeter_sd_error\n",
      "perimeter_worst\n",
      "area_mean\n",
      "area_sd_error\n",
      "area_worst\n",
      "smoothness_mean\n",
      "smoothness_sd_error\n",
      "smoothness_worst\n",
      "compactness_mean\n",
      "compactness_sd_error\n",
      "compactness_worst\n",
      "concavity_mean\n",
      "concavity_sd_error\n",
      "concavity_worst\n",
      "concave_points_mean\n",
      "concave_points_sd_error\n",
      "concave_points_worst\n",
      "symmetry_mean\n",
      "symmetry_sd_error\n",
      "symmetry_worst\n",
      "fractal_dimension_mean\n",
      "fractal_dimension_sd_error\n",
      "fractal_dimension_worst\n",
      "\n",
      "Number of labels loaded: 32\n"
     ]
    }
   ],
   "source": [
    "header_labels = []\n",
    "with open(\"field_names.txt\") as header_labels_file:\n",
    "    print \"Column Headers:\\n\"\n",
    "    for line in header_labels_file:\n",
    "        header_labels.append(line.strip())\n",
    "for label in header_labels:\n",
    "    print label\n",
    "print \"\\nNumber of labels loaded: %.f\" %len(header_labels)\n",
    "\n",
    "bc.columns=header_labels"
   ]
  },
  {
   "cell_type": "markdown",
   "metadata": {},
   "source": [
    "### Checking the Results"
   ]
  },
  {
   "cell_type": "code",
   "execution_count": 4,
   "metadata": {
    "collapsed": false
   },
   "outputs": [
    {
     "name": "stdout",
     "output_type": "stream",
     "text": [
      "Dataframe shape: 569 rows, 32 columns\n",
      "\n",
      "Here are the first few rows:\n"
     ]
    },
    {
     "data": {
      "text/html": [
       "<div>\n",
       "<table border=\"1\" class=\"dataframe\">\n",
       "  <thead>\n",
       "    <tr style=\"text-align: right;\">\n",
       "      <th></th>\n",
       "      <th>ID</th>\n",
       "      <th>diagnosis</th>\n",
       "      <th>radius_mean</th>\n",
       "      <th>radius_sd_error</th>\n",
       "      <th>radius_worst</th>\n",
       "      <th>texture_mean</th>\n",
       "      <th>texture_sd_error</th>\n",
       "      <th>texture_worst</th>\n",
       "      <th>perimeter_mean</th>\n",
       "      <th>perimeter_sd_error</th>\n",
       "      <th>...</th>\n",
       "      <th>concavity_worst</th>\n",
       "      <th>concave_points_mean</th>\n",
       "      <th>concave_points_sd_error</th>\n",
       "      <th>concave_points_worst</th>\n",
       "      <th>symmetry_mean</th>\n",
       "      <th>symmetry_sd_error</th>\n",
       "      <th>symmetry_worst</th>\n",
       "      <th>fractal_dimension_mean</th>\n",
       "      <th>fractal_dimension_sd_error</th>\n",
       "      <th>fractal_dimension_worst</th>\n",
       "    </tr>\n",
       "  </thead>\n",
       "  <tbody>\n",
       "    <tr>\n",
       "      <th>0</th>\n",
       "      <td>842302</td>\n",
       "      <td>M</td>\n",
       "      <td>17.99</td>\n",
       "      <td>10.38</td>\n",
       "      <td>122.80</td>\n",
       "      <td>1001.0</td>\n",
       "      <td>0.11840</td>\n",
       "      <td>0.27760</td>\n",
       "      <td>0.3001</td>\n",
       "      <td>0.14710</td>\n",
       "      <td>...</td>\n",
       "      <td>25.38</td>\n",
       "      <td>17.33</td>\n",
       "      <td>184.60</td>\n",
       "      <td>2019.0</td>\n",
       "      <td>0.1622</td>\n",
       "      <td>0.6656</td>\n",
       "      <td>0.7119</td>\n",
       "      <td>0.2654</td>\n",
       "      <td>0.4601</td>\n",
       "      <td>0.11890</td>\n",
       "    </tr>\n",
       "    <tr>\n",
       "      <th>1</th>\n",
       "      <td>842517</td>\n",
       "      <td>M</td>\n",
       "      <td>20.57</td>\n",
       "      <td>17.77</td>\n",
       "      <td>132.90</td>\n",
       "      <td>1326.0</td>\n",
       "      <td>0.08474</td>\n",
       "      <td>0.07864</td>\n",
       "      <td>0.0869</td>\n",
       "      <td>0.07017</td>\n",
       "      <td>...</td>\n",
       "      <td>24.99</td>\n",
       "      <td>23.41</td>\n",
       "      <td>158.80</td>\n",
       "      <td>1956.0</td>\n",
       "      <td>0.1238</td>\n",
       "      <td>0.1866</td>\n",
       "      <td>0.2416</td>\n",
       "      <td>0.1860</td>\n",
       "      <td>0.2750</td>\n",
       "      <td>0.08902</td>\n",
       "    </tr>\n",
       "    <tr>\n",
       "      <th>2</th>\n",
       "      <td>84300903</td>\n",
       "      <td>M</td>\n",
       "      <td>19.69</td>\n",
       "      <td>21.25</td>\n",
       "      <td>130.00</td>\n",
       "      <td>1203.0</td>\n",
       "      <td>0.10960</td>\n",
       "      <td>0.15990</td>\n",
       "      <td>0.1974</td>\n",
       "      <td>0.12790</td>\n",
       "      <td>...</td>\n",
       "      <td>23.57</td>\n",
       "      <td>25.53</td>\n",
       "      <td>152.50</td>\n",
       "      <td>1709.0</td>\n",
       "      <td>0.1444</td>\n",
       "      <td>0.4245</td>\n",
       "      <td>0.4504</td>\n",
       "      <td>0.2430</td>\n",
       "      <td>0.3613</td>\n",
       "      <td>0.08758</td>\n",
       "    </tr>\n",
       "    <tr>\n",
       "      <th>3</th>\n",
       "      <td>84348301</td>\n",
       "      <td>M</td>\n",
       "      <td>11.42</td>\n",
       "      <td>20.38</td>\n",
       "      <td>77.58</td>\n",
       "      <td>386.1</td>\n",
       "      <td>0.14250</td>\n",
       "      <td>0.28390</td>\n",
       "      <td>0.2414</td>\n",
       "      <td>0.10520</td>\n",
       "      <td>...</td>\n",
       "      <td>14.91</td>\n",
       "      <td>26.50</td>\n",
       "      <td>98.87</td>\n",
       "      <td>567.7</td>\n",
       "      <td>0.2098</td>\n",
       "      <td>0.8663</td>\n",
       "      <td>0.6869</td>\n",
       "      <td>0.2575</td>\n",
       "      <td>0.6638</td>\n",
       "      <td>0.17300</td>\n",
       "    </tr>\n",
       "    <tr>\n",
       "      <th>4</th>\n",
       "      <td>84358402</td>\n",
       "      <td>M</td>\n",
       "      <td>20.29</td>\n",
       "      <td>14.34</td>\n",
       "      <td>135.10</td>\n",
       "      <td>1297.0</td>\n",
       "      <td>0.10030</td>\n",
       "      <td>0.13280</td>\n",
       "      <td>0.1980</td>\n",
       "      <td>0.10430</td>\n",
       "      <td>...</td>\n",
       "      <td>22.54</td>\n",
       "      <td>16.67</td>\n",
       "      <td>152.20</td>\n",
       "      <td>1575.0</td>\n",
       "      <td>0.1374</td>\n",
       "      <td>0.2050</td>\n",
       "      <td>0.4000</td>\n",
       "      <td>0.1625</td>\n",
       "      <td>0.2364</td>\n",
       "      <td>0.07678</td>\n",
       "    </tr>\n",
       "    <tr>\n",
       "      <th>5</th>\n",
       "      <td>843786</td>\n",
       "      <td>M</td>\n",
       "      <td>12.45</td>\n",
       "      <td>15.70</td>\n",
       "      <td>82.57</td>\n",
       "      <td>477.1</td>\n",
       "      <td>0.12780</td>\n",
       "      <td>0.17000</td>\n",
       "      <td>0.1578</td>\n",
       "      <td>0.08089</td>\n",
       "      <td>...</td>\n",
       "      <td>15.47</td>\n",
       "      <td>23.75</td>\n",
       "      <td>103.40</td>\n",
       "      <td>741.6</td>\n",
       "      <td>0.1791</td>\n",
       "      <td>0.5249</td>\n",
       "      <td>0.5355</td>\n",
       "      <td>0.1741</td>\n",
       "      <td>0.3985</td>\n",
       "      <td>0.12440</td>\n",
       "    </tr>\n",
       "  </tbody>\n",
       "</table>\n",
       "<p>6 rows × 32 columns</p>\n",
       "</div>"
      ],
      "text/plain": [
       "         ID diagnosis  radius_mean  radius_sd_error  radius_worst  \\\n",
       "0    842302         M        17.99            10.38        122.80   \n",
       "1    842517         M        20.57            17.77        132.90   \n",
       "2  84300903         M        19.69            21.25        130.00   \n",
       "3  84348301         M        11.42            20.38         77.58   \n",
       "4  84358402         M        20.29            14.34        135.10   \n",
       "5    843786         M        12.45            15.70         82.57   \n",
       "\n",
       "   texture_mean  texture_sd_error  texture_worst  perimeter_mean  \\\n",
       "0        1001.0           0.11840        0.27760          0.3001   \n",
       "1        1326.0           0.08474        0.07864          0.0869   \n",
       "2        1203.0           0.10960        0.15990          0.1974   \n",
       "3         386.1           0.14250        0.28390          0.2414   \n",
       "4        1297.0           0.10030        0.13280          0.1980   \n",
       "5         477.1           0.12780        0.17000          0.1578   \n",
       "\n",
       "   perimeter_sd_error           ...             concavity_worst  \\\n",
       "0             0.14710           ...                       25.38   \n",
       "1             0.07017           ...                       24.99   \n",
       "2             0.12790           ...                       23.57   \n",
       "3             0.10520           ...                       14.91   \n",
       "4             0.10430           ...                       22.54   \n",
       "5             0.08089           ...                       15.47   \n",
       "\n",
       "   concave_points_mean  concave_points_sd_error  concave_points_worst  \\\n",
       "0                17.33                   184.60                2019.0   \n",
       "1                23.41                   158.80                1956.0   \n",
       "2                25.53                   152.50                1709.0   \n",
       "3                26.50                    98.87                 567.7   \n",
       "4                16.67                   152.20                1575.0   \n",
       "5                23.75                   103.40                 741.6   \n",
       "\n",
       "   symmetry_mean  symmetry_sd_error  symmetry_worst  fractal_dimension_mean  \\\n",
       "0         0.1622             0.6656          0.7119                  0.2654   \n",
       "1         0.1238             0.1866          0.2416                  0.1860   \n",
       "2         0.1444             0.4245          0.4504                  0.2430   \n",
       "3         0.2098             0.8663          0.6869                  0.2575   \n",
       "4         0.1374             0.2050          0.4000                  0.1625   \n",
       "5         0.1791             0.5249          0.5355                  0.1741   \n",
       "\n",
       "   fractal_dimension_sd_error  fractal_dimension_worst  \n",
       "0                      0.4601                  0.11890  \n",
       "1                      0.2750                  0.08902  \n",
       "2                      0.3613                  0.08758  \n",
       "3                      0.6638                  0.17300  \n",
       "4                      0.2364                  0.07678  \n",
       "5                      0.3985                  0.12440  \n",
       "\n",
       "[6 rows x 32 columns]"
      ]
     },
     "execution_count": 4,
     "metadata": {},
     "output_type": "execute_result"
    }
   ],
   "source": [
    "print \"Dataframe shape: %.f rows, %.f columns\\n\" % bc.shape\n",
    "print \"Here are the first few rows:\"\n",
    "bc.head(6)"
   ]
  },
  {
   "cell_type": "markdown",
   "metadata": {},
   "source": [
    "## Preprocessing and Data Transformation"
   ]
  },
  {
   "cell_type": "markdown",
   "metadata": {},
   "source": [
    "If we look at the first few lines of data (above), or a summary of the data (below)..."
   ]
  },
  {
   "cell_type": "code",
   "execution_count": 5,
   "metadata": {
    "collapsed": false
   },
   "outputs": [
    {
     "data": {
      "text/html": [
       "<div>\n",
       "<table border=\"1\" class=\"dataframe\">\n",
       "  <thead>\n",
       "    <tr style=\"text-align: right;\">\n",
       "      <th></th>\n",
       "      <th>ID</th>\n",
       "      <th>radius_mean</th>\n",
       "      <th>radius_sd_error</th>\n",
       "      <th>radius_worst</th>\n",
       "      <th>texture_mean</th>\n",
       "      <th>texture_sd_error</th>\n",
       "      <th>texture_worst</th>\n",
       "      <th>perimeter_mean</th>\n",
       "      <th>perimeter_sd_error</th>\n",
       "      <th>perimeter_worst</th>\n",
       "      <th>...</th>\n",
       "      <th>concavity_worst</th>\n",
       "      <th>concave_points_mean</th>\n",
       "      <th>concave_points_sd_error</th>\n",
       "      <th>concave_points_worst</th>\n",
       "      <th>symmetry_mean</th>\n",
       "      <th>symmetry_sd_error</th>\n",
       "      <th>symmetry_worst</th>\n",
       "      <th>fractal_dimension_mean</th>\n",
       "      <th>fractal_dimension_sd_error</th>\n",
       "      <th>fractal_dimension_worst</th>\n",
       "    </tr>\n",
       "  </thead>\n",
       "  <tbody>\n",
       "    <tr>\n",
       "      <th>count</th>\n",
       "      <td>5.690000e+02</td>\n",
       "      <td>569.000000</td>\n",
       "      <td>569.000000</td>\n",
       "      <td>569.000000</td>\n",
       "      <td>569.000000</td>\n",
       "      <td>569.000000</td>\n",
       "      <td>569.000000</td>\n",
       "      <td>569.000000</td>\n",
       "      <td>569.000000</td>\n",
       "      <td>569.000000</td>\n",
       "      <td>...</td>\n",
       "      <td>569.000000</td>\n",
       "      <td>569.000000</td>\n",
       "      <td>569.000000</td>\n",
       "      <td>569.000000</td>\n",
       "      <td>569.000000</td>\n",
       "      <td>569.000000</td>\n",
       "      <td>569.000000</td>\n",
       "      <td>569.000000</td>\n",
       "      <td>569.000000</td>\n",
       "      <td>569.000000</td>\n",
       "    </tr>\n",
       "    <tr>\n",
       "      <th>mean</th>\n",
       "      <td>3.037183e+07</td>\n",
       "      <td>14.127292</td>\n",
       "      <td>19.289649</td>\n",
       "      <td>91.969033</td>\n",
       "      <td>654.889104</td>\n",
       "      <td>0.096360</td>\n",
       "      <td>0.104341</td>\n",
       "      <td>0.088799</td>\n",
       "      <td>0.048919</td>\n",
       "      <td>0.181162</td>\n",
       "      <td>...</td>\n",
       "      <td>16.269190</td>\n",
       "      <td>25.677223</td>\n",
       "      <td>107.261213</td>\n",
       "      <td>880.583128</td>\n",
       "      <td>0.132369</td>\n",
       "      <td>0.254265</td>\n",
       "      <td>0.272188</td>\n",
       "      <td>0.114606</td>\n",
       "      <td>0.290076</td>\n",
       "      <td>0.083946</td>\n",
       "    </tr>\n",
       "    <tr>\n",
       "      <th>std</th>\n",
       "      <td>1.250206e+08</td>\n",
       "      <td>3.524049</td>\n",
       "      <td>4.301036</td>\n",
       "      <td>24.298981</td>\n",
       "      <td>351.914129</td>\n",
       "      <td>0.014064</td>\n",
       "      <td>0.052813</td>\n",
       "      <td>0.079720</td>\n",
       "      <td>0.038803</td>\n",
       "      <td>0.027414</td>\n",
       "      <td>...</td>\n",
       "      <td>4.833242</td>\n",
       "      <td>6.146258</td>\n",
       "      <td>33.602542</td>\n",
       "      <td>569.356993</td>\n",
       "      <td>0.022832</td>\n",
       "      <td>0.157336</td>\n",
       "      <td>0.208624</td>\n",
       "      <td>0.065732</td>\n",
       "      <td>0.061867</td>\n",
       "      <td>0.018061</td>\n",
       "    </tr>\n",
       "    <tr>\n",
       "      <th>min</th>\n",
       "      <td>8.670000e+03</td>\n",
       "      <td>6.981000</td>\n",
       "      <td>9.710000</td>\n",
       "      <td>43.790000</td>\n",
       "      <td>143.500000</td>\n",
       "      <td>0.052630</td>\n",
       "      <td>0.019380</td>\n",
       "      <td>0.000000</td>\n",
       "      <td>0.000000</td>\n",
       "      <td>0.106000</td>\n",
       "      <td>...</td>\n",
       "      <td>7.930000</td>\n",
       "      <td>12.020000</td>\n",
       "      <td>50.410000</td>\n",
       "      <td>185.200000</td>\n",
       "      <td>0.071170</td>\n",
       "      <td>0.027290</td>\n",
       "      <td>0.000000</td>\n",
       "      <td>0.000000</td>\n",
       "      <td>0.156500</td>\n",
       "      <td>0.055040</td>\n",
       "    </tr>\n",
       "    <tr>\n",
       "      <th>25%</th>\n",
       "      <td>8.692180e+05</td>\n",
       "      <td>11.700000</td>\n",
       "      <td>16.170000</td>\n",
       "      <td>75.170000</td>\n",
       "      <td>420.300000</td>\n",
       "      <td>0.086370</td>\n",
       "      <td>0.064920</td>\n",
       "      <td>0.029560</td>\n",
       "      <td>0.020310</td>\n",
       "      <td>0.161900</td>\n",
       "      <td>...</td>\n",
       "      <td>13.010000</td>\n",
       "      <td>21.080000</td>\n",
       "      <td>84.110000</td>\n",
       "      <td>515.300000</td>\n",
       "      <td>0.116600</td>\n",
       "      <td>0.147200</td>\n",
       "      <td>0.114500</td>\n",
       "      <td>0.064930</td>\n",
       "      <td>0.250400</td>\n",
       "      <td>0.071460</td>\n",
       "    </tr>\n",
       "    <tr>\n",
       "      <th>50%</th>\n",
       "      <td>9.060240e+05</td>\n",
       "      <td>13.370000</td>\n",
       "      <td>18.840000</td>\n",
       "      <td>86.240000</td>\n",
       "      <td>551.100000</td>\n",
       "      <td>0.095870</td>\n",
       "      <td>0.092630</td>\n",
       "      <td>0.061540</td>\n",
       "      <td>0.033500</td>\n",
       "      <td>0.179200</td>\n",
       "      <td>...</td>\n",
       "      <td>14.970000</td>\n",
       "      <td>25.410000</td>\n",
       "      <td>97.660000</td>\n",
       "      <td>686.500000</td>\n",
       "      <td>0.131300</td>\n",
       "      <td>0.211900</td>\n",
       "      <td>0.226700</td>\n",
       "      <td>0.099930</td>\n",
       "      <td>0.282200</td>\n",
       "      <td>0.080040</td>\n",
       "    </tr>\n",
       "    <tr>\n",
       "      <th>75%</th>\n",
       "      <td>8.813129e+06</td>\n",
       "      <td>15.780000</td>\n",
       "      <td>21.800000</td>\n",
       "      <td>104.100000</td>\n",
       "      <td>782.700000</td>\n",
       "      <td>0.105300</td>\n",
       "      <td>0.130400</td>\n",
       "      <td>0.130700</td>\n",
       "      <td>0.074000</td>\n",
       "      <td>0.195700</td>\n",
       "      <td>...</td>\n",
       "      <td>18.790000</td>\n",
       "      <td>29.720000</td>\n",
       "      <td>125.400000</td>\n",
       "      <td>1084.000000</td>\n",
       "      <td>0.146000</td>\n",
       "      <td>0.339100</td>\n",
       "      <td>0.382900</td>\n",
       "      <td>0.161400</td>\n",
       "      <td>0.317900</td>\n",
       "      <td>0.092080</td>\n",
       "    </tr>\n",
       "    <tr>\n",
       "      <th>max</th>\n",
       "      <td>9.113205e+08</td>\n",
       "      <td>28.110000</td>\n",
       "      <td>39.280000</td>\n",
       "      <td>188.500000</td>\n",
       "      <td>2501.000000</td>\n",
       "      <td>0.163400</td>\n",
       "      <td>0.345400</td>\n",
       "      <td>0.426800</td>\n",
       "      <td>0.201200</td>\n",
       "      <td>0.304000</td>\n",
       "      <td>...</td>\n",
       "      <td>36.040000</td>\n",
       "      <td>49.540000</td>\n",
       "      <td>251.200000</td>\n",
       "      <td>4254.000000</td>\n",
       "      <td>0.222600</td>\n",
       "      <td>1.058000</td>\n",
       "      <td>1.252000</td>\n",
       "      <td>0.291000</td>\n",
       "      <td>0.663800</td>\n",
       "      <td>0.207500</td>\n",
       "    </tr>\n",
       "  </tbody>\n",
       "</table>\n",
       "<p>8 rows × 31 columns</p>\n",
       "</div>"
      ],
      "text/plain": [
       "                 ID  radius_mean  radius_sd_error  radius_worst  texture_mean  \\\n",
       "count  5.690000e+02   569.000000       569.000000    569.000000    569.000000   \n",
       "mean   3.037183e+07    14.127292        19.289649     91.969033    654.889104   \n",
       "std    1.250206e+08     3.524049         4.301036     24.298981    351.914129   \n",
       "min    8.670000e+03     6.981000         9.710000     43.790000    143.500000   \n",
       "25%    8.692180e+05    11.700000        16.170000     75.170000    420.300000   \n",
       "50%    9.060240e+05    13.370000        18.840000     86.240000    551.100000   \n",
       "75%    8.813129e+06    15.780000        21.800000    104.100000    782.700000   \n",
       "max    9.113205e+08    28.110000        39.280000    188.500000   2501.000000   \n",
       "\n",
       "       texture_sd_error  texture_worst  perimeter_mean  perimeter_sd_error  \\\n",
       "count        569.000000     569.000000      569.000000          569.000000   \n",
       "mean           0.096360       0.104341        0.088799            0.048919   \n",
       "std            0.014064       0.052813        0.079720            0.038803   \n",
       "min            0.052630       0.019380        0.000000            0.000000   \n",
       "25%            0.086370       0.064920        0.029560            0.020310   \n",
       "50%            0.095870       0.092630        0.061540            0.033500   \n",
       "75%            0.105300       0.130400        0.130700            0.074000   \n",
       "max            0.163400       0.345400        0.426800            0.201200   \n",
       "\n",
       "       perimeter_worst           ...             concavity_worst  \\\n",
       "count       569.000000           ...                  569.000000   \n",
       "mean          0.181162           ...                   16.269190   \n",
       "std           0.027414           ...                    4.833242   \n",
       "min           0.106000           ...                    7.930000   \n",
       "25%           0.161900           ...                   13.010000   \n",
       "50%           0.179200           ...                   14.970000   \n",
       "75%           0.195700           ...                   18.790000   \n",
       "max           0.304000           ...                   36.040000   \n",
       "\n",
       "       concave_points_mean  concave_points_sd_error  concave_points_worst  \\\n",
       "count           569.000000               569.000000            569.000000   \n",
       "mean             25.677223               107.261213            880.583128   \n",
       "std               6.146258                33.602542            569.356993   \n",
       "min              12.020000                50.410000            185.200000   \n",
       "25%              21.080000                84.110000            515.300000   \n",
       "50%              25.410000                97.660000            686.500000   \n",
       "75%              29.720000               125.400000           1084.000000   \n",
       "max              49.540000               251.200000           4254.000000   \n",
       "\n",
       "       symmetry_mean  symmetry_sd_error  symmetry_worst  \\\n",
       "count     569.000000         569.000000      569.000000   \n",
       "mean        0.132369           0.254265        0.272188   \n",
       "std         0.022832           0.157336        0.208624   \n",
       "min         0.071170           0.027290        0.000000   \n",
       "25%         0.116600           0.147200        0.114500   \n",
       "50%         0.131300           0.211900        0.226700   \n",
       "75%         0.146000           0.339100        0.382900   \n",
       "max         0.222600           1.058000        1.252000   \n",
       "\n",
       "       fractal_dimension_mean  fractal_dimension_sd_error  \\\n",
       "count              569.000000                  569.000000   \n",
       "mean                 0.114606                    0.290076   \n",
       "std                  0.065732                    0.061867   \n",
       "min                  0.000000                    0.156500   \n",
       "25%                  0.064930                    0.250400   \n",
       "50%                  0.099930                    0.282200   \n",
       "75%                  0.161400                    0.317900   \n",
       "max                  0.291000                    0.663800   \n",
       "\n",
       "       fractal_dimension_worst  \n",
       "count               569.000000  \n",
       "mean                  0.083946  \n",
       "std                   0.018061  \n",
       "min                   0.055040  \n",
       "25%                   0.071460  \n",
       "50%                   0.080040  \n",
       "75%                   0.092080  \n",
       "max                   0.207500  \n",
       "\n",
       "[8 rows x 31 columns]"
      ]
     },
     "execution_count": 5,
     "metadata": {},
     "output_type": "execute_result"
    }
   ],
   "source": [
    "bc.describe()"
   ]
  },
  {
   "cell_type": "markdown",
   "metadata": {},
   "source": [
    "...there are a few things that will help us analyze this dataset. First, we should also randomize our dataset since we can't assume it's already randomized. (In fact, it isn't.) Also, we separate the diagnosss and convert it to a binary variable:"
   ]
  },
  {
   "cell_type": "code",
   "execution_count": 6,
   "metadata": {
    "collapsed": false
   },
   "outputs": [
    {
     "name": "stdout",
     "output_type": "stream",
     "text": [
      "Dataframe shape: 569 rows, 1 columns\n",
      "\n",
      "Check first few rows of bc_Y (outcome variable):\n"
     ]
    },
    {
     "data": {
      "text/html": [
       "<div>\n",
       "<table border=\"1\" class=\"dataframe\">\n",
       "  <thead>\n",
       "    <tr style=\"text-align: right;\">\n",
       "      <th></th>\n",
       "      <th>diagnosis_M</th>\n",
       "    </tr>\n",
       "  </thead>\n",
       "  <tbody>\n",
       "    <tr>\n",
       "      <th>0</th>\n",
       "      <td>1</td>\n",
       "    </tr>\n",
       "    <tr>\n",
       "      <th>1</th>\n",
       "      <td>0</td>\n",
       "    </tr>\n",
       "    <tr>\n",
       "      <th>2</th>\n",
       "      <td>0</td>\n",
       "    </tr>\n",
       "    <tr>\n",
       "      <th>3</th>\n",
       "      <td>0</td>\n",
       "    </tr>\n",
       "    <tr>\n",
       "      <th>4</th>\n",
       "      <td>0</td>\n",
       "    </tr>\n",
       "  </tbody>\n",
       "</table>\n",
       "</div>"
      ],
      "text/plain": [
       "   diagnosis_M\n",
       "0            1\n",
       "1            0\n",
       "2            0\n",
       "3            0\n",
       "4            0"
      ]
     },
     "execution_count": 6,
     "metadata": {},
     "output_type": "execute_result"
    }
   ],
   "source": [
    "bc=bc.sample(frac=1,random_state=5).reset_index(drop=True)\n",
    "bc_Y = pd.get_dummies(bc.diagnosis)\n",
    "bc_Y = bc_Y.drop('B',1)\n",
    "bc_Y.columns = ['diagnosis_M',]\n",
    "\n",
    "bc_X = bc.drop('diagnosis', 1)\n",
    "\n",
    "print \"Dataframe shape: %.f rows, %.f columns\\n\" % bc_Y.shape\n",
    "print \"Check first few rows of bc_Y (outcome variable):\"\n",
    "bc_Y.head(5)"
   ]
  },
  {
   "cell_type": "markdown",
   "metadata": {},
   "source": [
    "...and the predictor variables (features), dropping the ID column (so it's not used in our models later):"
   ]
  },
  {
   "cell_type": "code",
   "execution_count": 7,
   "metadata": {
    "collapsed": false
   },
   "outputs": [
    {
     "name": "stdout",
     "output_type": "stream",
     "text": [
      "Check first few rows of  of bc_X (input variables):\n",
      "Dataframe shape: 569 rows, 30 columns\n",
      "\n"
     ]
    },
    {
     "data": {
      "text/html": [
       "<div>\n",
       "<table border=\"1\" class=\"dataframe\">\n",
       "  <thead>\n",
       "    <tr style=\"text-align: right;\">\n",
       "      <th></th>\n",
       "      <th>radius_mean</th>\n",
       "      <th>radius_sd_error</th>\n",
       "      <th>radius_worst</th>\n",
       "      <th>texture_mean</th>\n",
       "      <th>texture_sd_error</th>\n",
       "      <th>texture_worst</th>\n",
       "      <th>perimeter_mean</th>\n",
       "      <th>perimeter_sd_error</th>\n",
       "      <th>perimeter_worst</th>\n",
       "      <th>area_mean</th>\n",
       "      <th>...</th>\n",
       "      <th>concavity_worst</th>\n",
       "      <th>concave_points_mean</th>\n",
       "      <th>concave_points_sd_error</th>\n",
       "      <th>concave_points_worst</th>\n",
       "      <th>symmetry_mean</th>\n",
       "      <th>symmetry_sd_error</th>\n",
       "      <th>symmetry_worst</th>\n",
       "      <th>fractal_dimension_mean</th>\n",
       "      <th>fractal_dimension_sd_error</th>\n",
       "      <th>fractal_dimension_worst</th>\n",
       "    </tr>\n",
       "  </thead>\n",
       "  <tbody>\n",
       "    <tr>\n",
       "      <th>0</th>\n",
       "      <td>15.30</td>\n",
       "      <td>25.27</td>\n",
       "      <td>102.40</td>\n",
       "      <td>732.4</td>\n",
       "      <td>0.10820</td>\n",
       "      <td>0.16970</td>\n",
       "      <td>0.16830</td>\n",
       "      <td>0.08751</td>\n",
       "      <td>0.1926</td>\n",
       "      <td>0.06540</td>\n",
       "      <td>...</td>\n",
       "      <td>20.27</td>\n",
       "      <td>36.71</td>\n",
       "      <td>149.30</td>\n",
       "      <td>1269.0</td>\n",
       "      <td>0.1641</td>\n",
       "      <td>0.6110</td>\n",
       "      <td>0.63350</td>\n",
       "      <td>0.20240</td>\n",
       "      <td>0.4027</td>\n",
       "      <td>0.09876</td>\n",
       "    </tr>\n",
       "    <tr>\n",
       "      <th>1</th>\n",
       "      <td>12.34</td>\n",
       "      <td>22.22</td>\n",
       "      <td>79.85</td>\n",
       "      <td>464.5</td>\n",
       "      <td>0.10120</td>\n",
       "      <td>0.10150</td>\n",
       "      <td>0.05370</td>\n",
       "      <td>0.02822</td>\n",
       "      <td>0.1551</td>\n",
       "      <td>0.06761</td>\n",
       "      <td>...</td>\n",
       "      <td>13.58</td>\n",
       "      <td>28.68</td>\n",
       "      <td>87.36</td>\n",
       "      <td>553.0</td>\n",
       "      <td>0.1452</td>\n",
       "      <td>0.2338</td>\n",
       "      <td>0.16880</td>\n",
       "      <td>0.08194</td>\n",
       "      <td>0.2268</td>\n",
       "      <td>0.09082</td>\n",
       "    </tr>\n",
       "    <tr>\n",
       "      <th>2</th>\n",
       "      <td>14.50</td>\n",
       "      <td>10.89</td>\n",
       "      <td>94.28</td>\n",
       "      <td>640.7</td>\n",
       "      <td>0.11010</td>\n",
       "      <td>0.10990</td>\n",
       "      <td>0.08842</td>\n",
       "      <td>0.05778</td>\n",
       "      <td>0.1856</td>\n",
       "      <td>0.06402</td>\n",
       "      <td>...</td>\n",
       "      <td>15.70</td>\n",
       "      <td>15.98</td>\n",
       "      <td>102.80</td>\n",
       "      <td>745.5</td>\n",
       "      <td>0.1313</td>\n",
       "      <td>0.1788</td>\n",
       "      <td>0.25600</td>\n",
       "      <td>0.12210</td>\n",
       "      <td>0.2889</td>\n",
       "      <td>0.08006</td>\n",
       "    </tr>\n",
       "    <tr>\n",
       "      <th>3</th>\n",
       "      <td>13.30</td>\n",
       "      <td>21.57</td>\n",
       "      <td>85.24</td>\n",
       "      <td>546.1</td>\n",
       "      <td>0.08582</td>\n",
       "      <td>0.06373</td>\n",
       "      <td>0.03344</td>\n",
       "      <td>0.02424</td>\n",
       "      <td>0.1815</td>\n",
       "      <td>0.05696</td>\n",
       "      <td>...</td>\n",
       "      <td>14.20</td>\n",
       "      <td>29.20</td>\n",
       "      <td>92.94</td>\n",
       "      <td>621.2</td>\n",
       "      <td>0.1140</td>\n",
       "      <td>0.1667</td>\n",
       "      <td>0.12120</td>\n",
       "      <td>0.05614</td>\n",
       "      <td>0.2637</td>\n",
       "      <td>0.06658</td>\n",
       "    </tr>\n",
       "    <tr>\n",
       "      <th>4</th>\n",
       "      <td>10.82</td>\n",
       "      <td>24.21</td>\n",
       "      <td>68.89</td>\n",
       "      <td>361.6</td>\n",
       "      <td>0.08192</td>\n",
       "      <td>0.06602</td>\n",
       "      <td>0.01548</td>\n",
       "      <td>0.00816</td>\n",
       "      <td>0.1976</td>\n",
       "      <td>0.06328</td>\n",
       "      <td>...</td>\n",
       "      <td>13.03</td>\n",
       "      <td>31.45</td>\n",
       "      <td>83.90</td>\n",
       "      <td>505.6</td>\n",
       "      <td>0.1204</td>\n",
       "      <td>0.1633</td>\n",
       "      <td>0.06194</td>\n",
       "      <td>0.03264</td>\n",
       "      <td>0.3059</td>\n",
       "      <td>0.07626</td>\n",
       "    </tr>\n",
       "  </tbody>\n",
       "</table>\n",
       "<p>5 rows × 30 columns</p>\n",
       "</div>"
      ],
      "text/plain": [
       "   radius_mean  radius_sd_error  radius_worst  texture_mean  texture_sd_error  \\\n",
       "0        15.30            25.27        102.40         732.4           0.10820   \n",
       "1        12.34            22.22         79.85         464.5           0.10120   \n",
       "2        14.50            10.89         94.28         640.7           0.11010   \n",
       "3        13.30            21.57         85.24         546.1           0.08582   \n",
       "4        10.82            24.21         68.89         361.6           0.08192   \n",
       "\n",
       "   texture_worst  perimeter_mean  perimeter_sd_error  perimeter_worst  \\\n",
       "0        0.16970         0.16830             0.08751           0.1926   \n",
       "1        0.10150         0.05370             0.02822           0.1551   \n",
       "2        0.10990         0.08842             0.05778           0.1856   \n",
       "3        0.06373         0.03344             0.02424           0.1815   \n",
       "4        0.06602         0.01548             0.00816           0.1976   \n",
       "\n",
       "   area_mean           ...             concavity_worst  concave_points_mean  \\\n",
       "0    0.06540           ...                       20.27                36.71   \n",
       "1    0.06761           ...                       13.58                28.68   \n",
       "2    0.06402           ...                       15.70                15.98   \n",
       "3    0.05696           ...                       14.20                29.20   \n",
       "4    0.06328           ...                       13.03                31.45   \n",
       "\n",
       "   concave_points_sd_error  concave_points_worst  symmetry_mean  \\\n",
       "0                   149.30                1269.0         0.1641   \n",
       "1                    87.36                 553.0         0.1452   \n",
       "2                   102.80                 745.5         0.1313   \n",
       "3                    92.94                 621.2         0.1140   \n",
       "4                    83.90                 505.6         0.1204   \n",
       "\n",
       "   symmetry_sd_error  symmetry_worst  fractal_dimension_mean  \\\n",
       "0             0.6110         0.63350                 0.20240   \n",
       "1             0.2338         0.16880                 0.08194   \n",
       "2             0.1788         0.25600                 0.12210   \n",
       "3             0.1667         0.12120                 0.05614   \n",
       "4             0.1633         0.06194                 0.03264   \n",
       "\n",
       "   fractal_dimension_sd_error  fractal_dimension_worst  \n",
       "0                      0.4027                  0.09876  \n",
       "1                      0.2268                  0.09082  \n",
       "2                      0.2889                  0.08006  \n",
       "3                      0.2637                  0.06658  \n",
       "4                      0.3059                  0.07626  \n",
       "\n",
       "[5 rows x 30 columns]"
      ]
     },
     "execution_count": 7,
     "metadata": {},
     "output_type": "execute_result"
    }
   ],
   "source": [
    "bc_X = bc_X.drop('ID', 1)\n",
    "print \"Check first few rows of  of bc_X (input variables):\"\n",
    "\n",
    "print \"Dataframe shape: %.f rows, %.f columns\\n\" % bc_X.shape\n",
    "bc_X.head(5)\n"
   ]
  },
  {
   "cell_type": "markdown",
   "metadata": {},
   "source": [
    "Next, it will help us if we normalize the variables so we can later compare their weights (or variable coefficients, in a linear regression) to see which are more important. We can quickly see a summary of the data with the panda's describe function, and check that they now range from 0 to 1:"
   ]
  },
  {
   "cell_type": "code",
   "execution_count": 8,
   "metadata": {
    "collapsed": false
   },
   "outputs": [
    {
     "data": {
      "text/html": [
       "<div>\n",
       "<table border=\"1\" class=\"dataframe\">\n",
       "  <thead>\n",
       "    <tr style=\"text-align: right;\">\n",
       "      <th></th>\n",
       "      <th>radius_mean</th>\n",
       "      <th>radius_sd_error</th>\n",
       "      <th>radius_worst</th>\n",
       "      <th>texture_mean</th>\n",
       "      <th>texture_sd_error</th>\n",
       "      <th>texture_worst</th>\n",
       "      <th>perimeter_mean</th>\n",
       "      <th>perimeter_sd_error</th>\n",
       "      <th>perimeter_worst</th>\n",
       "      <th>area_mean</th>\n",
       "      <th>...</th>\n",
       "      <th>concavity_worst</th>\n",
       "      <th>concave_points_mean</th>\n",
       "      <th>concave_points_sd_error</th>\n",
       "      <th>concave_points_worst</th>\n",
       "      <th>symmetry_mean</th>\n",
       "      <th>symmetry_sd_error</th>\n",
       "      <th>symmetry_worst</th>\n",
       "      <th>fractal_dimension_mean</th>\n",
       "      <th>fractal_dimension_sd_error</th>\n",
       "      <th>fractal_dimension_worst</th>\n",
       "    </tr>\n",
       "  </thead>\n",
       "  <tbody>\n",
       "    <tr>\n",
       "      <th>count</th>\n",
       "      <td>569.000000</td>\n",
       "      <td>569.000000</td>\n",
       "      <td>569.000000</td>\n",
       "      <td>569.000000</td>\n",
       "      <td>569.000000</td>\n",
       "      <td>569.000000</td>\n",
       "      <td>569.000000</td>\n",
       "      <td>569.000000</td>\n",
       "      <td>569.000000</td>\n",
       "      <td>569.000000</td>\n",
       "      <td>...</td>\n",
       "      <td>569.000000</td>\n",
       "      <td>569.000000</td>\n",
       "      <td>569.000000</td>\n",
       "      <td>569.000000</td>\n",
       "      <td>569.000000</td>\n",
       "      <td>569.000000</td>\n",
       "      <td>569.000000</td>\n",
       "      <td>569.000000</td>\n",
       "      <td>569.000000</td>\n",
       "      <td>569.000000</td>\n",
       "    </tr>\n",
       "    <tr>\n",
       "      <th>mean</th>\n",
       "      <td>0.338222</td>\n",
       "      <td>0.323965</td>\n",
       "      <td>0.332935</td>\n",
       "      <td>0.216920</td>\n",
       "      <td>0.394785</td>\n",
       "      <td>0.260601</td>\n",
       "      <td>0.208058</td>\n",
       "      <td>0.243137</td>\n",
       "      <td>0.379605</td>\n",
       "      <td>0.270379</td>\n",
       "      <td>...</td>\n",
       "      <td>0.296663</td>\n",
       "      <td>0.363998</td>\n",
       "      <td>0.283138</td>\n",
       "      <td>0.170906</td>\n",
       "      <td>0.404138</td>\n",
       "      <td>0.220212</td>\n",
       "      <td>0.217403</td>\n",
       "      <td>0.393836</td>\n",
       "      <td>0.263307</td>\n",
       "      <td>0.189596</td>\n",
       "    </tr>\n",
       "    <tr>\n",
       "      <th>std</th>\n",
       "      <td>0.166787</td>\n",
       "      <td>0.145453</td>\n",
       "      <td>0.167915</td>\n",
       "      <td>0.149274</td>\n",
       "      <td>0.126967</td>\n",
       "      <td>0.161992</td>\n",
       "      <td>0.186785</td>\n",
       "      <td>0.192857</td>\n",
       "      <td>0.138456</td>\n",
       "      <td>0.148702</td>\n",
       "      <td>...</td>\n",
       "      <td>0.171940</td>\n",
       "      <td>0.163813</td>\n",
       "      <td>0.167352</td>\n",
       "      <td>0.139932</td>\n",
       "      <td>0.150779</td>\n",
       "      <td>0.152649</td>\n",
       "      <td>0.166633</td>\n",
       "      <td>0.225884</td>\n",
       "      <td>0.121954</td>\n",
       "      <td>0.118466</td>\n",
       "    </tr>\n",
       "    <tr>\n",
       "      <th>min</th>\n",
       "      <td>0.000000</td>\n",
       "      <td>0.000000</td>\n",
       "      <td>0.000000</td>\n",
       "      <td>0.000000</td>\n",
       "      <td>0.000000</td>\n",
       "      <td>0.000000</td>\n",
       "      <td>0.000000</td>\n",
       "      <td>0.000000</td>\n",
       "      <td>0.000000</td>\n",
       "      <td>0.000000</td>\n",
       "      <td>...</td>\n",
       "      <td>0.000000</td>\n",
       "      <td>0.000000</td>\n",
       "      <td>0.000000</td>\n",
       "      <td>0.000000</td>\n",
       "      <td>0.000000</td>\n",
       "      <td>0.000000</td>\n",
       "      <td>0.000000</td>\n",
       "      <td>0.000000</td>\n",
       "      <td>0.000000</td>\n",
       "      <td>0.000000</td>\n",
       "    </tr>\n",
       "    <tr>\n",
       "      <th>25%</th>\n",
       "      <td>0.223342</td>\n",
       "      <td>0.218465</td>\n",
       "      <td>0.216847</td>\n",
       "      <td>0.117413</td>\n",
       "      <td>0.304595</td>\n",
       "      <td>0.139685</td>\n",
       "      <td>0.069260</td>\n",
       "      <td>0.100944</td>\n",
       "      <td>0.282323</td>\n",
       "      <td>0.163016</td>\n",
       "      <td>...</td>\n",
       "      <td>0.180719</td>\n",
       "      <td>0.241471</td>\n",
       "      <td>0.167837</td>\n",
       "      <td>0.081130</td>\n",
       "      <td>0.300007</td>\n",
       "      <td>0.116337</td>\n",
       "      <td>0.091454</td>\n",
       "      <td>0.223127</td>\n",
       "      <td>0.185098</td>\n",
       "      <td>0.107700</td>\n",
       "    </tr>\n",
       "    <tr>\n",
       "      <th>50%</th>\n",
       "      <td>0.302381</td>\n",
       "      <td>0.308759</td>\n",
       "      <td>0.293345</td>\n",
       "      <td>0.172895</td>\n",
       "      <td>0.390358</td>\n",
       "      <td>0.224679</td>\n",
       "      <td>0.144189</td>\n",
       "      <td>0.166501</td>\n",
       "      <td>0.369697</td>\n",
       "      <td>0.243892</td>\n",
       "      <td>...</td>\n",
       "      <td>0.250445</td>\n",
       "      <td>0.356876</td>\n",
       "      <td>0.235320</td>\n",
       "      <td>0.123206</td>\n",
       "      <td>0.397081</td>\n",
       "      <td>0.179110</td>\n",
       "      <td>0.181070</td>\n",
       "      <td>0.343402</td>\n",
       "      <td>0.247782</td>\n",
       "      <td>0.163977</td>\n",
       "    </tr>\n",
       "    <tr>\n",
       "      <th>75%</th>\n",
       "      <td>0.416442</td>\n",
       "      <td>0.408860</td>\n",
       "      <td>0.416765</td>\n",
       "      <td>0.271135</td>\n",
       "      <td>0.475490</td>\n",
       "      <td>0.340531</td>\n",
       "      <td>0.306232</td>\n",
       "      <td>0.367793</td>\n",
       "      <td>0.453030</td>\n",
       "      <td>0.340354</td>\n",
       "      <td>...</td>\n",
       "      <td>0.386339</td>\n",
       "      <td>0.471748</td>\n",
       "      <td>0.373475</td>\n",
       "      <td>0.220901</td>\n",
       "      <td>0.494156</td>\n",
       "      <td>0.302520</td>\n",
       "      <td>0.305831</td>\n",
       "      <td>0.554639</td>\n",
       "      <td>0.318155</td>\n",
       "      <td>0.242949</td>\n",
       "    </tr>\n",
       "    <tr>\n",
       "      <th>max</th>\n",
       "      <td>1.000000</td>\n",
       "      <td>1.000000</td>\n",
       "      <td>1.000000</td>\n",
       "      <td>1.000000</td>\n",
       "      <td>1.000000</td>\n",
       "      <td>1.000000</td>\n",
       "      <td>1.000000</td>\n",
       "      <td>1.000000</td>\n",
       "      <td>1.000000</td>\n",
       "      <td>1.000000</td>\n",
       "      <td>...</td>\n",
       "      <td>1.000000</td>\n",
       "      <td>1.000000</td>\n",
       "      <td>1.000000</td>\n",
       "      <td>1.000000</td>\n",
       "      <td>1.000000</td>\n",
       "      <td>1.000000</td>\n",
       "      <td>1.000000</td>\n",
       "      <td>1.000000</td>\n",
       "      <td>1.000000</td>\n",
       "      <td>1.000000</td>\n",
       "    </tr>\n",
       "  </tbody>\n",
       "</table>\n",
       "<p>8 rows × 30 columns</p>\n",
       "</div>"
      ],
      "text/plain": [
       "       radius_mean  radius_sd_error  radius_worst  texture_mean  \\\n",
       "count   569.000000       569.000000    569.000000    569.000000   \n",
       "mean      0.338222         0.323965      0.332935      0.216920   \n",
       "std       0.166787         0.145453      0.167915      0.149274   \n",
       "min       0.000000         0.000000      0.000000      0.000000   \n",
       "25%       0.223342         0.218465      0.216847      0.117413   \n",
       "50%       0.302381         0.308759      0.293345      0.172895   \n",
       "75%       0.416442         0.408860      0.416765      0.271135   \n",
       "max       1.000000         1.000000      1.000000      1.000000   \n",
       "\n",
       "       texture_sd_error  texture_worst  perimeter_mean  perimeter_sd_error  \\\n",
       "count        569.000000     569.000000      569.000000          569.000000   \n",
       "mean           0.394785       0.260601        0.208058            0.243137   \n",
       "std            0.126967       0.161992        0.186785            0.192857   \n",
       "min            0.000000       0.000000        0.000000            0.000000   \n",
       "25%            0.304595       0.139685        0.069260            0.100944   \n",
       "50%            0.390358       0.224679        0.144189            0.166501   \n",
       "75%            0.475490       0.340531        0.306232            0.367793   \n",
       "max            1.000000       1.000000        1.000000            1.000000   \n",
       "\n",
       "       perimeter_worst   area_mean           ...             concavity_worst  \\\n",
       "count       569.000000  569.000000           ...                  569.000000   \n",
       "mean          0.379605    0.270379           ...                    0.296663   \n",
       "std           0.138456    0.148702           ...                    0.171940   \n",
       "min           0.000000    0.000000           ...                    0.000000   \n",
       "25%           0.282323    0.163016           ...                    0.180719   \n",
       "50%           0.369697    0.243892           ...                    0.250445   \n",
       "75%           0.453030    0.340354           ...                    0.386339   \n",
       "max           1.000000    1.000000           ...                    1.000000   \n",
       "\n",
       "       concave_points_mean  concave_points_sd_error  concave_points_worst  \\\n",
       "count           569.000000               569.000000            569.000000   \n",
       "mean              0.363998                 0.283138              0.170906   \n",
       "std               0.163813                 0.167352              0.139932   \n",
       "min               0.000000                 0.000000              0.000000   \n",
       "25%               0.241471                 0.167837              0.081130   \n",
       "50%               0.356876                 0.235320              0.123206   \n",
       "75%               0.471748                 0.373475              0.220901   \n",
       "max               1.000000                 1.000000              1.000000   \n",
       "\n",
       "       symmetry_mean  symmetry_sd_error  symmetry_worst  \\\n",
       "count     569.000000         569.000000      569.000000   \n",
       "mean        0.404138           0.220212        0.217403   \n",
       "std         0.150779           0.152649        0.166633   \n",
       "min         0.000000           0.000000        0.000000   \n",
       "25%         0.300007           0.116337        0.091454   \n",
       "50%         0.397081           0.179110        0.181070   \n",
       "75%         0.494156           0.302520        0.305831   \n",
       "max         1.000000           1.000000        1.000000   \n",
       "\n",
       "       fractal_dimension_mean  fractal_dimension_sd_error  \\\n",
       "count              569.000000                  569.000000   \n",
       "mean                 0.393836                    0.263307   \n",
       "std                  0.225884                    0.121954   \n",
       "min                  0.000000                    0.000000   \n",
       "25%                  0.223127                    0.185098   \n",
       "50%                  0.343402                    0.247782   \n",
       "75%                  0.554639                    0.318155   \n",
       "max                  1.000000                    1.000000   \n",
       "\n",
       "       fractal_dimension_worst  \n",
       "count               569.000000  \n",
       "mean                  0.189596  \n",
       "std                   0.118466  \n",
       "min                   0.000000  \n",
       "25%                   0.107700  \n",
       "50%                   0.163977  \n",
       "75%                   0.242949  \n",
       "max                   1.000000  \n",
       "\n",
       "[8 rows x 30 columns]"
      ]
     },
     "execution_count": 8,
     "metadata": {},
     "output_type": "execute_result"
    }
   ],
   "source": [
    "bc_cols = bc_X.columns\n",
    "X = bc_X.values #returns a numpy array\n",
    "min_max_scaler = preprocessing.MinMaxScaler()\n",
    "X_scaled = min_max_scaler.fit_transform(X)\n",
    "X_scaled = pd.DataFrame(X_scaled)\n",
    "X_scaled.columns = bc_cols\n",
    "\n",
    "X_scaled.describe()"
   ]
  },
  {
   "cell_type": "code",
   "execution_count": 9,
   "metadata": {
    "collapsed": false
   },
   "outputs": [
    {
     "data": {
      "text/html": [
       "<div>\n",
       "<table border=\"1\" class=\"dataframe\">\n",
       "  <thead>\n",
       "    <tr style=\"text-align: right;\">\n",
       "      <th></th>\n",
       "      <th>radius_mean</th>\n",
       "      <th>radius_sd_error</th>\n",
       "      <th>radius_worst</th>\n",
       "      <th>texture_mean</th>\n",
       "      <th>texture_sd_error</th>\n",
       "      <th>texture_worst</th>\n",
       "      <th>perimeter_mean</th>\n",
       "      <th>perimeter_sd_error</th>\n",
       "      <th>perimeter_worst</th>\n",
       "      <th>area_mean</th>\n",
       "      <th>...</th>\n",
       "      <th>concavity_worst</th>\n",
       "      <th>concave_points_mean</th>\n",
       "      <th>concave_points_sd_error</th>\n",
       "      <th>concave_points_worst</th>\n",
       "      <th>symmetry_mean</th>\n",
       "      <th>symmetry_sd_error</th>\n",
       "      <th>symmetry_worst</th>\n",
       "      <th>fractal_dimension_mean</th>\n",
       "      <th>fractal_dimension_sd_error</th>\n",
       "      <th>fractal_dimension_worst</th>\n",
       "    </tr>\n",
       "  </thead>\n",
       "  <tbody>\n",
       "    <tr>\n",
       "      <th>0</th>\n",
       "      <td>0.393724</td>\n",
       "      <td>0.526209</td>\n",
       "      <td>0.405017</td>\n",
       "      <td>0.249799</td>\n",
       "      <td>0.501670</td>\n",
       "      <td>0.461076</td>\n",
       "      <td>0.39433</td>\n",
       "      <td>0.434940</td>\n",
       "      <td>0.437374</td>\n",
       "      <td>0.325190</td>\n",
       "      <td>...</td>\n",
       "      <td>0.438990</td>\n",
       "      <td>0.658049</td>\n",
       "      <td>0.492505</td>\n",
       "      <td>0.266368</td>\n",
       "      <td>0.613683</td>\n",
       "      <td>0.566318</td>\n",
       "      <td>0.505990</td>\n",
       "      <td>0.695533</td>\n",
       "      <td>0.485314</td>\n",
       "      <td>0.286764</td>\n",
       "    </tr>\n",
       "    <tr>\n",
       "      <th>1</th>\n",
       "      <td>0.253632</td>\n",
       "      <td>0.423064</td>\n",
       "      <td>0.249188</td>\n",
       "      <td>0.136161</td>\n",
       "      <td>0.438476</td>\n",
       "      <td>0.251886</td>\n",
       "      <td>0.12582</td>\n",
       "      <td>0.140258</td>\n",
       "      <td>0.247980</td>\n",
       "      <td>0.371735</td>\n",
       "      <td>...</td>\n",
       "      <td>0.200996</td>\n",
       "      <td>0.444030</td>\n",
       "      <td>0.184023</td>\n",
       "      <td>0.090395</td>\n",
       "      <td>0.488873</td>\n",
       "      <td>0.200357</td>\n",
       "      <td>0.134824</td>\n",
       "      <td>0.281581</td>\n",
       "      <td>0.138577</td>\n",
       "      <td>0.234685</td>\n",
       "    </tr>\n",
       "    <tr>\n",
       "      <th>2</th>\n",
       "      <td>0.355862</td>\n",
       "      <td>0.039905</td>\n",
       "      <td>0.348905</td>\n",
       "      <td>0.210901</td>\n",
       "      <td>0.518823</td>\n",
       "      <td>0.277652</td>\n",
       "      <td>0.20717</td>\n",
       "      <td>0.287177</td>\n",
       "      <td>0.402020</td>\n",
       "      <td>0.296125</td>\n",
       "      <td>...</td>\n",
       "      <td>0.276414</td>\n",
       "      <td>0.105544</td>\n",
       "      <td>0.260919</td>\n",
       "      <td>0.137706</td>\n",
       "      <td>0.397081</td>\n",
       "      <td>0.146996</td>\n",
       "      <td>0.204473</td>\n",
       "      <td>0.419588</td>\n",
       "      <td>0.260990</td>\n",
       "      <td>0.164109</td>\n",
       "    </tr>\n",
       "  </tbody>\n",
       "</table>\n",
       "<p>3 rows × 30 columns</p>\n",
       "</div>"
      ],
      "text/plain": [
       "   radius_mean  radius_sd_error  radius_worst  texture_mean  texture_sd_error  \\\n",
       "0     0.393724         0.526209      0.405017      0.249799          0.501670   \n",
       "1     0.253632         0.423064      0.249188      0.136161          0.438476   \n",
       "2     0.355862         0.039905      0.348905      0.210901          0.518823   \n",
       "\n",
       "   texture_worst  perimeter_mean  perimeter_sd_error  perimeter_worst  \\\n",
       "0       0.461076         0.39433            0.434940         0.437374   \n",
       "1       0.251886         0.12582            0.140258         0.247980   \n",
       "2       0.277652         0.20717            0.287177         0.402020   \n",
       "\n",
       "   area_mean           ...             concavity_worst  concave_points_mean  \\\n",
       "0   0.325190           ...                    0.438990             0.658049   \n",
       "1   0.371735           ...                    0.200996             0.444030   \n",
       "2   0.296125           ...                    0.276414             0.105544   \n",
       "\n",
       "   concave_points_sd_error  concave_points_worst  symmetry_mean  \\\n",
       "0                 0.492505              0.266368       0.613683   \n",
       "1                 0.184023              0.090395       0.488873   \n",
       "2                 0.260919              0.137706       0.397081   \n",
       "\n",
       "   symmetry_sd_error  symmetry_worst  fractal_dimension_mean  \\\n",
       "0           0.566318        0.505990                0.695533   \n",
       "1           0.200357        0.134824                0.281581   \n",
       "2           0.146996        0.204473                0.419588   \n",
       "\n",
       "   fractal_dimension_sd_error  fractal_dimension_worst  \n",
       "0                    0.485314                 0.286764  \n",
       "1                    0.138577                 0.234685  \n",
       "2                    0.260990                 0.164109  \n",
       "\n",
       "[3 rows x 30 columns]"
      ]
     },
     "execution_count": 9,
     "metadata": {},
     "output_type": "execute_result"
    }
   ],
   "source": [
    "X_scaled.head(3)"
   ]
  },
  {
   "cell_type": "markdown",
   "metadata": {},
   "source": [
    "## Smoothness and Compactness: Mean and Median"
   ]
  },
  {
   "cell_type": "markdown",
   "metadata": {},
   "source": [
    "We can quickly find the compactness' and smoothness' median and mean with panda's built in functions, and compare the  Malignant and Benign sub-populations. We can also get the standard deviations (std) to see if the differences are statistically significant:"
   ]
  },
  {
   "cell_type": "code",
   "execution_count": 10,
   "metadata": {
    "collapsed": false
   },
   "outputs": [
    {
     "name": "stdout",
     "output_type": "stream",
     "text": [
      "Smoothness[Malig]\tmean: 4.324\tmedian: 3.679\tstd: 2.569\n",
      "Smoothness[Benign]\tmean: 2.000\tmedian: 1.851\tstd: 0.771\n",
      "\n",
      "Compactness[Malig]\tmean: 0.032\tmedian: 0.029\tstd: 0.018\n",
      "Compactness[Benign]\tmean: 0.021\tmedian: 0.016\tstd: 0.016\n"
     ]
    }
   ],
   "source": [
    "print \"Smoothness[Malig]\\tmean: %.3f\\tmedian: %.3f\\tstd: %.3f\" % (bc_X[bc_Y.diagnosis_M==1]['smoothness_mean'].mean(),\n",
    "                                                                   bc_X[bc_Y.diagnosis_M==1]['smoothness_mean'].median(),\n",
    "                                                                   bc_X[bc_Y.diagnosis_M==1]['smoothness_mean'].std())\n",
    "print \"Smoothness[Benign]\\tmean: %.3f\\tmedian: %.3f\\tstd: %.3f\" % (bc_X[bc_Y.diagnosis_M==0]['smoothness_mean'].mean(),\n",
    "                                                                    bc_X[bc_Y.diagnosis_M==0]['smoothness_mean'].median(),\n",
    "                                                                    bc_X[bc_Y.diagnosis_M==0]['smoothness_mean'].std())\n",
    "print \"\"\n",
    "print \"Compactness[Malig]\\tmean: %.3f\\tmedian: %.3f\\tstd: %.3f\" % (bc_X[bc_Y.diagnosis_M==1]['compactness_mean'].mean(),\n",
    "                                                                   bc_X[bc_Y.diagnosis_M==1]['compactness_mean'].median(),\n",
    "                                                                   bc_X[bc_Y.diagnosis_M==1]['compactness_mean'].std())\n",
    "print \"Compactness[Benign]\\tmean: %.3f\\tmedian: %.3f\\tstd: %.3f\" % (bc_X[bc_Y.diagnosis_M==0]['compactness_mean'].mean(),\n",
    "                                                                   bc_X[bc_Y.diagnosis_M==0]['compactness_mean'].median(),\n",
    "                                                                   bc_X[bc_Y.diagnosis_M==0]['compactness_mean'].std())\n"
   ]
  },
  {
   "cell_type": "markdown",
   "metadata": {},
   "source": [
    "In this case, seeing whether the differences in the means are statistically significant is too hard to eyeball from just their standard deviations and means. A more accurate way of testing this is with a Student's T-test:"
   ]
  },
  {
   "cell_type": "code",
   "execution_count": 11,
   "metadata": {
    "collapsed": false
   },
   "outputs": [
    {
     "name": "stdout",
     "output_type": "stream",
     "text": [
      "Smoothness_mean t-test: Ttest_indResult(statistic=15.934158019257902, pvalue=1.6519051758498057e-47)\n",
      "Compactness_mean t-test: Ttest_indResult(statistic=7.2970774374485288, pvalue=9.9759946540747665e-13)\n"
     ]
    }
   ],
   "source": [
    "malgroup = bc_X[bc_Y.diagnosis_M==1]['smoothness_mean']\n",
    "bengroup = bc_X[bc_Y.diagnosis_M==0]['smoothness_mean']\n",
    "\n",
    "print \"Smoothness_mean t-test:\", ttest_ind(malgroup.values, bengroup.values)\n",
    "\n",
    "malgroup = bc_X[bc_Y.diagnosis_M==1]['compactness_mean']\n",
    "bengroup = bc_X[bc_Y.diagnosis_M==0]['compactness_mean']\n",
    "\n",
    "print \"Compactness_mean t-test:\", ttest_ind(malgroup.values, bengroup.values)"
   ]
  },
  {
   "cell_type": "markdown",
   "metadata": {},
   "source": [
    "In this case, it turns out that the means for both both Smoothness and Compactness are statistically different from each other (well below a .05 p-value) between Malignant and Benign cells, suggesting that these may be useful predictor variables (features) in a model. It's worth mentioning that the Student's T-test is technically  for comparing populations of similar size or variance. A Welch's t-test is better suited for unequal (or unknown) size/variance, but for our purposes, a Student's t-test should do for this case."
   ]
  },
  {
   "cell_type": "markdown",
   "metadata": {},
   "source": [
    "## Simple Bootstrap Function"
   ]
  },
  {
   "cell_type": "code",
   "execution_count": 12,
   "metadata": {
    "collapsed": false
   },
   "outputs": [
    {
     "name": "stdout",
     "output_type": "stream",
     "text": [
      "Testing 1k sample bootstrap, from original data.\n",
      "Shape of bootstrapped sample:\t(1000, 32)\n",
      "Shape of input:\t\t\t(569, 32)\n"
     ]
    }
   ],
   "source": [
    "def simple_bootstrap(inputdf,samplesize):\n",
    "    orig_samples = inputdf.shape[0]\n",
    "    return inputdf.iloc[np.random.randint(orig_samples, size=samplesize)]\n",
    "\n",
    "#test\n",
    "print \"Testing 1k sample bootstrap, from original data.\"\n",
    "print \"Shape of bootstrapped sample:\\t\",simple_bootstrap(bc,1000).shape\n",
    "print \"Shape of input:\\t\\t\\t\",bc.shape\n",
    "\n"
   ]
  },
  {
   "cell_type": "markdown",
   "metadata": {},
   "source": [
    "Since we have a bootstrap function now, we can quickly re-run the t-test above to verify statistical significance (p-value<.05), using the size of the smaller population (malignant) as a sample size (essentially down-sampling the larger population):"
   ]
  },
  {
   "cell_type": "code",
   "execution_count": 13,
   "metadata": {
    "collapsed": false
   },
   "outputs": [
    {
     "name": "stdout",
     "output_type": "stream",
     "text": [
      "Smoothness_mean t-test: Ttest_indResult(statistic=15.896530192009878, pvalue=1.0135565071480284e-47)\n",
      "Compactness_mean t-test: Ttest_indResult(statistic=7.471546484572551, pvalue=2.8258424880899015e-13)\n"
     ]
    }
   ],
   "source": [
    "bootstrapsize = 300\n",
    "\n",
    "malgroup = simple_bootstrap(bc[bc.diagnosis=='M'],bootstrapsize)['smoothness_mean']\n",
    "bengroup = simple_bootstrap(bc[bc.diagnosis=='B'],bootstrapsize)['smoothness_mean']\n",
    "\n",
    "print \"Smoothness_mean t-test:\", ttest_ind(malgroup.values, bengroup.values)\n",
    "\n",
    "malgroup = simple_bootstrap(bc[bc.diagnosis=='M'],bootstrapsize)['compactness_mean']\n",
    "bengroup = simple_bootstrap(bc[bc.diagnosis=='B'],bootstrapsize)['compactness_mean']\n",
    "\n",
    "print \"Compactness_mean t-test:\", ttest_ind(malgroup.values, bengroup.values)"
   ]
  },
  {
   "cell_type": "markdown",
   "metadata": {},
   "source": [
    "# Exploratory Analysis"
   ]
  },
  {
   "cell_type": "code",
   "execution_count": 14,
   "metadata": {
    "collapsed": false
   },
   "outputs": [
    {
     "name": "stdout",
     "output_type": "stream",
     "text": [
      "Malignant cases in dataset:\t212\n",
      "Benign cases in dataset:\t357\n"
     ]
    }
   ],
   "source": [
    "print \"Malignant cases in dataset:\\t%.0f\" % bc[bc.diagnosis=='M'].shape[0]\n",
    "print \"Benign cases in dataset:\\t%.0f\" % bc[bc.diagnosis=='B'].shape[0]"
   ]
  },
  {
   "cell_type": "markdown",
   "metadata": {},
   "source": [
    "Since there are more benign cases in this dataset than malignant, this would be a good time to use the (above) bootstrap function to balance the ratio of samples so we're comparing apples to apples when looking at their distributions. This will also help normalize the distribution towards a Normal Distribution, which will help highlight features that are strong predictors."
   ]
  },
  {
   "cell_type": "code",
   "execution_count": 15,
   "metadata": {
    "collapsed": false
   },
   "outputs": [
    {
     "name": "stdout",
     "output_type": "stream",
     "text": [
      "Bootstrapped dataframe: (20000, 32)\n"
     ]
    }
   ],
   "source": [
    "bootstrapsize = 10000\n",
    "bcBoots=simple_bootstrap(bc[bc.diagnosis=='M'],bootstrapsize).append(\n",
    "    simple_bootstrap(bc[bc.diagnosis=='B'],bootstrapsize))\n",
    "print \"Bootstrapped dataframe:\", bcBoots.shape\n",
    "\n",
    "\n"
   ]
  },
  {
   "cell_type": "markdown",
   "metadata": {},
   "source": [
    "A quick scan of overlaid  histograms (M in red, B in green) shows several features that show noteably different distributions between diagnoses:"
   ]
  },
  {
   "cell_type": "code",
   "execution_count": 16,
   "metadata": {
    "collapsed": false
   },
   "outputs": [
    {
     "name": "stderr",
     "output_type": "stream",
     "text": [
      "/Users/denisvrdoljak/Library/Enthought/Canopy_64bit/User/lib/python2.7/site-packages/matplotlib/pyplot.py:424: RuntimeWarning: More than 20 figures have been opened. Figures created through the pyplot interface (`matplotlib.pyplot.figure`) are retained until explicitly closed and may consume too much memory. (To control this warning, see the rcParam `figure.max_open_warning`).\n",
      "  max_open_warning, RuntimeWarning)\n"
     ]
    },
    {
     "data": {
      "image/png": "[encoded data removed]",
      "text/plain": [
       "<matplotlib.figure.Figure at 0x10dc2db50>"
      ]
     },
     "metadata": {},
     "output_type": "display_data"
    },
    {
     "data": {
      "image/png": "[encoded data removed]",
      "text/plain": [
       "<matplotlib.figure.Figure at 0x10deda590>"
      ]
     },
     "metadata": {},
     "output_type": "display_data"
    },
    {
     "data": {
      "image/png": "[encoded data removed]",
      "text/plain": [
       "<matplotlib.figure.Figure at 0x10f2e5610>"
      ]
     },
     "metadata": {},
     "output_type": "display_data"
    },
    {
     "data": {
      "image/png": "[encoded data removed]",
      "text/plain": [
       "<matplotlib.figure.Figure at 0x10f6a6810>"
      ]
     },
     "metadata": {},
     "output_type": "display_data"
    },
    {
     "data": {
      "image/png": "[encoded data removed]",
      "text/plain": [
       "<matplotlib.figure.Figure at 0x10fb57190>"
      ]
     },
     "metadata": {},
     "output_type": "display_data"
    },
    {
     "data": {
      "image/png": "[encoded data removed]",
      "text/plain": [
       "<matplotlib.figure.Figure at 0x10fdf8090>"
      ]
     },
     "metadata": {},
     "output_type": "display_data"
    },
    {
     "data": {
      "image/png": "[encoded data removed]",
      "text/plain": [
       "<matplotlib.figure.Figure at 0x110196810>"
      ]
     },
     "metadata": {},
     "output_type": "display_data"
    },
    {
     "data": {
      "image/png": "[encoded data removed]",
      "text/plain": [
       "<matplotlib.figure.Figure at 0x110637f90>"
      ]
     },
     "metadata": {},
     "output_type": "display_data"
    },
    {
     "data": {
      "image/png": "[encoded data removed]",
      "text/plain": [
       "<matplotlib.figure.Figure at 0x1108eb090>"
      ]
     },
     "metadata": {},
     "output_type": "display_data"
    },
    {
     "data": {
      "image/png": "[encoded data removed]",
      "text/plain": [
       "<matplotlib.figure.Figure at 0x110b3dbd0>"
      ]
     },
     "metadata": {},
     "output_type": "display_data"
    },
    {
     "data": {
      "image/png": "[encoded data removed]",
      "text/plain": [
       "<matplotlib.figure.Figure at 0x11112c090>"
      ]
     },
     "metadata": {},
     "output_type": "display_data"
    },
    {
     "data": {
      "image/png": "[encoded data removed]",
      "text/plain": [
       "<matplotlib.figure.Figure at 0x1113cb790>"
      ]
     },
     "metadata": {},
     "output_type": "display_data"
    },
    {
     "data": {
      "image/png": "[encoded data removed]",
      "text/plain": [
       "<matplotlib.figure.Figure at 0x111883310>"
      ]
     },
     "metadata": {},
     "output_type": "display_data"
    },
    {
     "data": {
      "image/png": "[encoded data removed]",
      "text/plain": [
       "<matplotlib.figure.Figure at 0x111c24950>"
      ]
     },
     "metadata": {},
     "output_type": "display_data"
    },
    {
     "data": {
      "image/png": "[encoded data removed]",
      "text/plain": [
       "<matplotlib.figure.Figure at 0x111fd3210>"
      ]
     },
     "metadata": {},
     "output_type": "display_data"
    },
    {
     "data": {
      "image/png": "[encoded data removed]",
      "text/plain": [
       "<matplotlib.figure.Figure at 0x112b73990>"
      ]
     },
     "metadata": {},
     "output_type": "display_data"
    },
    {
     "data": {
      "image/png": "[encoded data removed]",
      "text/plain": [
       "<matplotlib.figure.Figure at 0x112f22150>"
      ]
     },
     "metadata": {},
     "output_type": "display_data"
    },
    {
     "data": {
      "image/png": "[encoded data removed]",
      "text/plain": [
       "<matplotlib.figure.Figure at 0x1132c1910>"
      ]
     },
     "metadata": {},
     "output_type": "display_data"
    },
    {
     "data": {
      "image/png": "[encoded data removed]",
      "text/plain": [
       "<matplotlib.figure.Figure at 0x113664310>"
      ]
     },
     "metadata": {},
     "output_type": "display_data"
    },
    {
     "data": {
      "image/png": "[encoded data removed]",
      "text/plain": [
       "<matplotlib.figure.Figure at 0x113a03b10>"
      ]
     },
     "metadata": {},
     "output_type": "display_data"
    },
    {
     "data": {
      "image/png": "[encoded data removed]",
      "text/plain": [
       "<matplotlib.figure.Figure at 0x114013390>"
      ]
     },
     "metadata": {},
     "output_type": "display_data"
    },
    {
     "data": {
      "image/png": "[encoded data removed]",
      "text/plain": [
       "<matplotlib.figure.Figure at 0x114094650>"
      ]
     },
     "metadata": {},
     "output_type": "display_data"
    },
    {
     "data": {
      "image/png": "[encoded data removed]",
      "text/plain": [
       "<matplotlib.figure.Figure at 0x1143f3090>"
      ]
     },
     "metadata": {},
     "output_type": "display_data"
    },
    {
     "data": {
      "image/png": "[encoded data removed]",
      "text/plain": [
       "<matplotlib.figure.Figure at 0x1147d5350>"
      ]
     },
     "metadata": {},
     "output_type": "display_data"
    },
    {
     "data": {
      "image/png": "[encoded data removed]",
      "text/plain": [
       "<matplotlib.figure.Figure at 0x114b77710>"
      ]
     },
     "metadata": {},
     "output_type": "display_data"
    },
    {
     "data": {
      "image/png": "[encoded data removed]",
      "text/plain": [
       "<matplotlib.figure.Figure at 0x114f18e10>"
      ]
     },
     "metadata": {},
     "output_type": "display_data"
    },
    {
     "data": {
      "image/png": "[encoded data removed]",
      "text/plain": [
       "<matplotlib.figure.Figure at 0x1151ce990>"
      ]
     },
     "metadata": {},
     "output_type": "display_data"
    },
    {
     "data": {
      "image/png": "[encoded data removed]",
      "text/plain": [
       "<matplotlib.figure.Figure at 0x11567aed0>"
      ]
     },
     "metadata": {},
     "output_type": "display_data"
    },
    {
     "data": {
      "image/png": "[encoded data removed]",
      "text/plain": [
       "<matplotlib.figure.Figure at 0x115a1ef10>"
      ]
     },
     "metadata": {},
     "output_type": "display_data"
    },
    {
     "data": {
      "image/png": "[encoded data removed]",
      "text/plain": [
       "<matplotlib.figure.Figure at 0x115dcc510>"
      ]
     },
     "metadata": {},
     "output_type": "display_data"
    }
   ],
   "source": [
    "for feature in bcBoots.columns:\n",
    "    if feature in (\"ID\",\"diagnosis\"):\n",
    "        continue\n",
    "    plt.figure()\n",
    "    plt.title(feature)\n",
    "    exec(\"bcBoots[bcBoots.diagnosis=='M'].\"+feature+\".hist( bins=50,color='red',alpha=.5)\")\n",
    "    exec(\"bcBoots[bcBoots.diagnosis=='B'].\"+feature+\".hist( bins=50,color='green',alpha=.5)\")\n",
    "\n",
    "\n",
    "plt.show()"
   ]
  },
  {
   "cell_type": "markdown",
   "metadata": {},
   "source": [
    "The following features show strong differences in distributions between diagnoses:\n",
    "<li>fractal_dimension_mean</li>\n",
    "<li>concave_points_worst</li>\n",
    "<li>concave_points_sd_error</li>\n",
    "<li>perimeter_sd_error</li>\n",
    "<li>perimeter_mean</li>"
   ]
  },
  {
   "cell_type": "code",
   "execution_count": 17,
   "metadata": {
    "collapsed": false
   },
   "outputs": [
    {
     "data": {
      "image/png": "[encoded data removed]",
      "text/plain": [
       "<matplotlib.figure.Figure at 0x1162db290>"
      ]
     },
     "metadata": {},
     "output_type": "display_data"
    },
    {
     "data": {
      "image/png": "[encoded data removed]",
      "text/plain": [
       "<matplotlib.figure.Figure at 0x1189c9290>"
      ]
     },
     "metadata": {},
     "output_type": "display_data"
    },
    {
     "data": {
      "image/png": "[encoded data removed]",
      "text/plain": [
       "<matplotlib.figure.Figure at 0x118d7da50>"
      ]
     },
     "metadata": {},
     "output_type": "display_data"
    },
    {
     "data": {
      "image/png": "[encoded data removed]",
      "text/plain": [
       "<matplotlib.figure.Figure at 0x11981cf50>"
      ]
     },
     "metadata": {},
     "output_type": "display_data"
    },
    {
     "data": {
      "image/png": "[encoded data removed]",
      "text/plain": [
       "<matplotlib.figure.Figure at 0x119bca550>"
      ]
     },
     "metadata": {},
     "output_type": "display_data"
    }
   ],
   "source": [
    "plt.figure()\n",
    "plt.title('fractal_dimension_mean')\n",
    "bcBoots[bcBoots.diagnosis=='B'].fractal_dimension_mean.hist( bins=50,color='green',alpha=.5)\n",
    "bcBoots[bcBoots.diagnosis=='M'].fractal_dimension_mean.hist( bins=50,color='red',alpha=.5)\n",
    "\n",
    "plt.figure()\n",
    "plt.title('concave_points_worst')\n",
    "bcBoots[bcBoots.diagnosis=='B'].concave_points_worst.hist( bins=50,color='green',alpha=.5)\n",
    "bcBoots[bcBoots.diagnosis=='M'].concave_points_worst.hist( bins=50,color='red',alpha=.5)\n",
    "\n",
    "plt.figure()\n",
    "plt.title('concave_points_sd_error')\n",
    "bcBoots[bcBoots.diagnosis=='B'].concave_points_sd_error.hist( bins=50,color='green',alpha=.5)\n",
    "bcBoots[bcBoots.diagnosis=='M'].concave_points_sd_error.hist( bins=50,color='red',alpha=.5)\n",
    "\n",
    "plt.figure()\n",
    "plt.title('perimeter_sd_error')\n",
    "bcBoots[bcBoots.diagnosis=='B'].perimeter_sd_error.hist( bins=50,color='green',alpha=.5)\n",
    "bcBoots[bcBoots.diagnosis=='M'].perimeter_sd_error.hist( bins=50,color='red',alpha=.5)\n",
    "\n",
    "plt.figure()\n",
    "plt.title('perimeter_mean')\n",
    "bcBoots[bcBoots.diagnosis=='B'].perimeter_mean.hist( bins=50,color='green',alpha=.5)\n",
    "bcBoots[bcBoots.diagnosis=='M'].perimeter_mean.hist( bins=50,color='red',alpha=.5)\n",
    "\n",
    "\n",
    "\n",
    "\n",
    "\n",
    "plt.show()"
   ]
  },
  {
   "cell_type": "markdown",
   "metadata": {},
   "source": [
    "For each of these features, lower values correspond to benign cells, and higher values correspond to malignant cells. There is an overlap in each case, with slightly more of the distribution of malignant cells in the overlap region. (Note that here we are graphing the original values, not the normalized values that we calculated. Those will come in for our models.)"
   ]
  },
  {
   "cell_type": "markdown",
   "metadata": {},
   "source": [
    "# Modeling"
   ]
  },
  {
   "cell_type": "markdown",
   "metadata": {},
   "source": [
    "## Data Setup"
   ]
  },
  {
   "cell_type": "code",
   "execution_count": 18,
   "metadata": {
    "collapsed": false
   },
   "outputs": [
    {
     "data": {
      "text/html": [
       "<div>\n",
       "<table border=\"1\" class=\"dataframe\">\n",
       "  <thead>\n",
       "    <tr style=\"text-align: right;\">\n",
       "      <th></th>\n",
       "      <th>radius_mean</th>\n",
       "      <th>radius_sd_error</th>\n",
       "      <th>radius_worst</th>\n",
       "      <th>texture_mean</th>\n",
       "      <th>texture_sd_error</th>\n",
       "      <th>texture_worst</th>\n",
       "      <th>perimeter_mean</th>\n",
       "      <th>perimeter_sd_error</th>\n",
       "      <th>perimeter_worst</th>\n",
       "      <th>area_mean</th>\n",
       "      <th>...</th>\n",
       "      <th>concavity_worst</th>\n",
       "      <th>concave_points_mean</th>\n",
       "      <th>concave_points_sd_error</th>\n",
       "      <th>concave_points_worst</th>\n",
       "      <th>symmetry_mean</th>\n",
       "      <th>symmetry_sd_error</th>\n",
       "      <th>symmetry_worst</th>\n",
       "      <th>fractal_dimension_mean</th>\n",
       "      <th>fractal_dimension_sd_error</th>\n",
       "      <th>fractal_dimension_worst</th>\n",
       "    </tr>\n",
       "  </thead>\n",
       "  <tbody>\n",
       "    <tr>\n",
       "      <th>0</th>\n",
       "      <td>0.393724</td>\n",
       "      <td>0.526209</td>\n",
       "      <td>0.405017</td>\n",
       "      <td>0.249799</td>\n",
       "      <td>0.501670</td>\n",
       "      <td>0.461076</td>\n",
       "      <td>0.39433</td>\n",
       "      <td>0.434940</td>\n",
       "      <td>0.437374</td>\n",
       "      <td>0.325190</td>\n",
       "      <td>...</td>\n",
       "      <td>0.438990</td>\n",
       "      <td>0.658049</td>\n",
       "      <td>0.492505</td>\n",
       "      <td>0.266368</td>\n",
       "      <td>0.613683</td>\n",
       "      <td>0.566318</td>\n",
       "      <td>0.505990</td>\n",
       "      <td>0.695533</td>\n",
       "      <td>0.485314</td>\n",
       "      <td>0.286764</td>\n",
       "    </tr>\n",
       "    <tr>\n",
       "      <th>1</th>\n",
       "      <td>0.253632</td>\n",
       "      <td>0.423064</td>\n",
       "      <td>0.249188</td>\n",
       "      <td>0.136161</td>\n",
       "      <td>0.438476</td>\n",
       "      <td>0.251886</td>\n",
       "      <td>0.12582</td>\n",
       "      <td>0.140258</td>\n",
       "      <td>0.247980</td>\n",
       "      <td>0.371735</td>\n",
       "      <td>...</td>\n",
       "      <td>0.200996</td>\n",
       "      <td>0.444030</td>\n",
       "      <td>0.184023</td>\n",
       "      <td>0.090395</td>\n",
       "      <td>0.488873</td>\n",
       "      <td>0.200357</td>\n",
       "      <td>0.134824</td>\n",
       "      <td>0.281581</td>\n",
       "      <td>0.138577</td>\n",
       "      <td>0.234685</td>\n",
       "    </tr>\n",
       "    <tr>\n",
       "      <th>2</th>\n",
       "      <td>0.355862</td>\n",
       "      <td>0.039905</td>\n",
       "      <td>0.348905</td>\n",
       "      <td>0.210901</td>\n",
       "      <td>0.518823</td>\n",
       "      <td>0.277652</td>\n",
       "      <td>0.20717</td>\n",
       "      <td>0.287177</td>\n",
       "      <td>0.402020</td>\n",
       "      <td>0.296125</td>\n",
       "      <td>...</td>\n",
       "      <td>0.276414</td>\n",
       "      <td>0.105544</td>\n",
       "      <td>0.260919</td>\n",
       "      <td>0.137706</td>\n",
       "      <td>0.397081</td>\n",
       "      <td>0.146996</td>\n",
       "      <td>0.204473</td>\n",
       "      <td>0.419588</td>\n",
       "      <td>0.260990</td>\n",
       "      <td>0.164109</td>\n",
       "    </tr>\n",
       "  </tbody>\n",
       "</table>\n",
       "<p>3 rows × 30 columns</p>\n",
       "</div>"
      ],
      "text/plain": [
       "   radius_mean  radius_sd_error  radius_worst  texture_mean  texture_sd_error  \\\n",
       "0     0.393724         0.526209      0.405017      0.249799          0.501670   \n",
       "1     0.253632         0.423064      0.249188      0.136161          0.438476   \n",
       "2     0.355862         0.039905      0.348905      0.210901          0.518823   \n",
       "\n",
       "   texture_worst  perimeter_mean  perimeter_sd_error  perimeter_worst  \\\n",
       "0       0.461076         0.39433            0.434940         0.437374   \n",
       "1       0.251886         0.12582            0.140258         0.247980   \n",
       "2       0.277652         0.20717            0.287177         0.402020   \n",
       "\n",
       "   area_mean           ...             concavity_worst  concave_points_mean  \\\n",
       "0   0.325190           ...                    0.438990             0.658049   \n",
       "1   0.371735           ...                    0.200996             0.444030   \n",
       "2   0.296125           ...                    0.276414             0.105544   \n",
       "\n",
       "   concave_points_sd_error  concave_points_worst  symmetry_mean  \\\n",
       "0                 0.492505              0.266368       0.613683   \n",
       "1                 0.184023              0.090395       0.488873   \n",
       "2                 0.260919              0.137706       0.397081   \n",
       "\n",
       "   symmetry_sd_error  symmetry_worst  fractal_dimension_mean  \\\n",
       "0           0.566318        0.505990                0.695533   \n",
       "1           0.200357        0.134824                0.281581   \n",
       "2           0.146996        0.204473                0.419588   \n",
       "\n",
       "   fractal_dimension_sd_error  fractal_dimension_worst  \n",
       "0                    0.485314                 0.286764  \n",
       "1                    0.138577                 0.234685  \n",
       "2                    0.260990                 0.164109  \n",
       "\n",
       "[3 rows x 30 columns]"
      ]
     },
     "execution_count": 18,
     "metadata": {},
     "output_type": "execute_result"
    }
   ],
   "source": [
    "X_scaled.head(3)"
   ]
  },
  {
   "cell_type": "markdown",
   "metadata": {},
   "source": [
    "Here, we will split our data into a training set (80%) and a test set (20%). While we're at it, we'll also check the ratios of Malignant to Benign data points in each new set to make sure our earlier randomization worked, and we have (reasonbly) balanced data:"
   ]
  },
  {
   "cell_type": "code",
   "execution_count": 19,
   "metadata": {
    "collapsed": false
   },
   "outputs": [
    {
     "name": "stdout",
     "output_type": "stream",
     "text": [
      "Test data, Malignant ratio [0.43]:\t51 out of 119\n",
      "Training data, Malignant ratio [0.36]:\t161 out of 450\n"
     ]
    }
   ],
   "source": [
    "train_data,train_labels = X_scaled[:450],bc_Y[:450]\n",
    "test_data,test_labels = X_scaled[450:],bc_Y[450:]\n",
    "print \"Test data, Malignant ratio [%.2f]:\\t%.0f out of %.0f\" % (float(\n",
    "        test_labels[test_labels.diagnosis_M==1].shape[0]/1./test_labels.shape[0]),\n",
    "                                                                test_labels[test_labels.diagnosis_M==1].shape[0],\n",
    "                                                                test_labels.shape[0])\n",
    "print \"Training data, Malignant ratio [%.2f]:\\t%.0f out of %.0f\" % (float(\n",
    "        train_labels[train_labels.diagnosis_M==1].shape[0]/1./train_labels.shape[0]),\n",
    "                                                                    train_labels[train_labels.diagnosis_M==1].shape[0],\n",
    "                                                                    train_labels.shape[0])"
   ]
  },
  {
   "cell_type": "markdown",
   "metadata": {},
   "source": [
    "## Linear Regression:"
   ]
  },
  {
   "cell_type": "code",
   "execution_count": 29,
   "metadata": {
    "collapsed": false
   },
   "outputs": [
    {
     "name": "stdout",
     "output_type": "stream",
     "text": [
      "SKLearn calc accuracy:\t\t\t94.12%\n",
      "SKLearn calc accuracy (true diag B):\t100.00%\n",
      "SKLearn calc accuracy (true diag M):\t86.27%\n",
      "SKLearn calc f1 score:\t0.93\n"
     ]
    }
   ],
   "source": [
    "from sklearn.linear_model import LinearRegression\n",
    "\n",
    "bc_LinReg = LinearRegression()\n",
    "bc_LinReg.fit(train_data.values,train_labels.values)\n",
    "predictions = bc_LinReg.predict(test_data.values)\n",
    "LRpredictions = (predictions>.5)\n",
    "\n",
    "print \"SKLearn calc accuracy:\\t\\t\\t%.2f%%\" % float(100*sklearn.metrics.accuracy_score(LRpredictions,test_labels))\n",
    "print \"SKLearn calc accuracy (true diag B):\\t%.2f%%\" % float(100*sklearn.metrics.accuracy_score(LRpredictions[test_labels.diagnosis_M.values==0],test_labels[test_labels.diagnosis_M.values==0]))\n",
    "print \"SKLearn calc accuracy (true diag M):\\t%.2f%%\" % float(100*sklearn.metrics.accuracy_score(LRpredictions[test_labels.diagnosis_M.values==1],test_labels[test_labels.diagnosis_M.values==1]))\n",
    "print \"SKLearn calc f1 score:\\t%.2f\" % sklearn.metrics.f1_score(LRpredictions,test_labels)\n"
   ]
  },
  {
   "cell_type": "markdown",
   "metadata": {},
   "source": [
    "### Accuracy: 94%"
   ]
  },
  {
   "cell_type": "markdown",
   "metadata": {},
   "source": [
    "### Results:"
   ]
  },
  {
   "cell_type": "markdown",
   "metadata": {},
   "source": [
    "Using a 0.5 cuttoff between Malignant and Benign, we get decent results from a Linear Regression. But, our model is not well balanced (accurate in both Malignant and Benign cases). Also, we may want to bias it to be more accurate in Malignant cases, since a false negative is more costly than a false positive in cancer detection.\n",
    "\n",
    "Normally (to do a true optimization), we would need to separate out another subset of data, a development set, to optimize our model, then only use the remaining test set for a final score. But for simplicity, we can refer to the graphs we made earlier of different features, and notice that the (apparent) split in the data for different variables was at about a 1/3, in most cases, so it would be reasonable to use .33 as the cuttoff between Malignant and Benign, instead of .5:"
   ]
  },
  {
   "cell_type": "markdown",
   "metadata": {},
   "source": [
    "### Optimization:"
   ]
  },
  {
   "cell_type": "code",
   "execution_count": 21,
   "metadata": {
    "collapsed": false
   },
   "outputs": [
    {
     "name": "stdout",
     "output_type": "stream",
     "text": [
      "SKLearn calc accuracy:\t\t\t95.80%\n",
      "SKLearn calc accuracy (true diag B):\t92.65%\n",
      "SKLearn calc accuracy (true diag M):\t100.00%\n",
      "SKLearn calc f1 score:\t0.95\n"
     ]
    }
   ],
   "source": [
    "bc_LinReg = LinearRegression()\n",
    "bc_LinReg.fit(train_data.values,train_labels.values)\n",
    "predictions = bc_LinReg.predict(test_data.values)\n",
    "predictions = (predictions>.33)\n",
    "\n",
    "print \"SKLearn calc accuracy:\\t\\t\\t%.2f%%\" % float(100*sklearn.metrics.accuracy_score(predictions,test_labels))\n",
    "print \"SKLearn calc accuracy (true diag B):\\t%.2f%%\" % float(100*sklearn.metrics.accuracy_score(predictions[test_labels.diagnosis_M.values==0],test_labels[test_labels.diagnosis_M.values==0]))\n",
    "print \"SKLearn calc accuracy (true diag M):\\t%.2f%%\" % float(100*sklearn.metrics.accuracy_score(predictions[test_labels.diagnosis_M.values==1],test_labels[test_labels.diagnosis_M.values==1]))\n",
    "print \"SKLearn calc f1 score:\\t%.2f\" % sklearn.metrics.f1_score(predictions,test_labels)\n",
    "\n"
   ]
  },
  {
   "cell_type": "markdown",
   "metadata": {},
   "source": [
    "This \"optimized\" model performs a little better overall, but better balances the true positive and true negative accuracies, which is also reflected in the higher F-score (which is a composite of true positive and true negative accuracy). \n",
    "\n",
    "This model demonstrates using different scoring metrics, both in the case of unbalanced populations (which tend to overfit to the majority population), as well as looking specifically at true positive rates and true negative rates, especially in applications where they do not have equal cost. In this application, maximizing true positives (minimizing false negatives) is probably preferable over maximizing overall accuracy."
   ]
  },
  {
   "cell_type": "markdown",
   "metadata": {},
   "source": [
    "### Finding the Important Features:"
   ]
  },
  {
   "cell_type": "code",
   "execution_count": 35,
   "metadata": {
    "collapsed": false
   },
   "outputs": [
    {
     "name": "stdout",
     "output_type": "stream",
     "text": [
      "---CoEfficients---\n",
      "0\t-6.90\tradius_mean\n",
      "1\t0.17\tradius_sd_error\n",
      "2\t5.70\tradius_worst\n",
      "3\t1.14\ttexture_mean\n",
      "4\t-0.00\ttexture_sd_error\n",
      "5\t-1.32\ttexture_worst\n",
      "6\t0.71\tperimeter_mean\n",
      "7\t0.06\tperimeter_sd_error\n",
      "8\t0.06\tperimeter_worst\n",
      "9\t0.05\tarea_mean\n",
      "10\t1.04\tarea_sd_error\n",
      "11\t-0.04\tarea_worst\n",
      "12\t0.25\tsmoothness_mean\n",
      "13\t-1.28\tsmoothness_sd_error\n",
      "14\t0.46\tsmoothness_worst\n",
      "15\t-0.17\tcompactness_mean\n",
      "16\t-1.13\tcompactness_sd_error\n",
      "17\t0.46\tcompactness_worst\n",
      "18\t0.15\tconcavity_mean\n",
      "19\t-0.19\tconcavity_sd_error\n",
      "20\t6.76\tconcavity_worst\n",
      "21\t0.22\tconcave_points_mean\n",
      "22\t-1.89\tconcave_points_sd_error\n",
      "23\t-3.94\tconcave_points_worst\n",
      "24\t0.07\tsymmetry_mean\n",
      "25\t0.15\tsymmetry_sd_error\n",
      "26\t0.20\tsymmetry_worst\n",
      "27\t0.30\tfractal_dimension_mean\n",
      "28\t0.10\tfractal_dimension_sd_error\n",
      "29\t0.65\tfractal_dimension_worst\n",
      "\n",
      "---Significant Features---\n",
      "Max Coeff: concavity_worst , @index[20]:\t6.758\n",
      "Second Max Coeff: radius_worst , @index[2]:\t5.698\n",
      "Min Coeff: radius_mean , @index[0]:\t\t-6.903\n"
     ]
    }
   ],
   "source": [
    "coef_list = []\n",
    "print \"---CoEfficients---\"\n",
    "for i,coef in enumerate(bc_LinReg.coef_[0]):\n",
    "    print \"%d\\t%.2f\\t%s\" % (i, coef,train_data.columns[i])\n",
    "    coef_list.append(float(coef))\n",
    "\n",
    "print \"\\n---Significant Features---\"\n",
    "\n",
    "maxindex = bc_LinReg.coef_.argmax()\n",
    "print \"Max Coeff:\",train_data.columns[maxindex], \", @index[%.0f]:\\t%.3f\" % (maxindex,coef_list[maxindex])\n",
    "\n",
    "coef_list[maxindex] = 0\n",
    "maxindex = coef_list.index(max(coef_list))\n",
    "print \"Second Max Coeff:\",train_data.columns[maxindex], \", @index[%.0f]:\\t%.3f\" % (maxindex,coef_list[maxindex])\n",
    "\n",
    "\n",
    "minindex = bc_LinReg.coef_.argmin()\n",
    "print \"Min Coeff:\",train_data.columns[minindex], \", @index[%.0f]:\\t\\t%.3f\" % (minindex,coef_list[minindex])"
   ]
  },
  {
   "cell_type": "markdown",
   "metadata": {},
   "source": [
    "Since we normalized the data prior to fitting it to any models, we can compare/contrast the coeefficients of the predictors to see which are the most significant. Above, we see the strongest positive and negative correlations in our model."
   ]
  },
  {
   "cell_type": "markdown",
   "metadata": {},
   "source": [
    "## Bernoulli Naive Bayes:"
   ]
  },
  {
   "cell_type": "markdown",
   "metadata": {},
   "source": [
    "The Bernoulli Naive Bayes model will convert treat all features (predictors) as binary inputs. But default, it uses a 0.5 cuttoff to binarize the inputs."
   ]
  },
  {
   "cell_type": "code",
   "execution_count": 28,
   "metadata": {
    "collapsed": false
   },
   "outputs": [
    {
     "name": "stdout",
     "output_type": "stream",
     "text": [
      "SKLearn calc accuracy:\t\t\t57.14%\n",
      "SKLearn calc accuracy (true diag B):\t100.00%\n",
      "SKLearn calc accuracy (true diag M):\t0.00%\n",
      "SKLearn calc f1 score:\t0.00\n"
     ]
    }
   ],
   "source": [
    "from sklearn.naive_bayes import BernoulliNB\n",
    "\n",
    "bc_BNB = BernoulliNB()\n",
    "\n",
    "bc_BNB.fit(train_data.values,train_labels.values.ravel())\n",
    "BNBpredictions = bc_BNB.predict(test_data.values)\n",
    "\n",
    "print \"SKLearn calc accuracy:\\t\\t\\t%.2f%%\" % float(100*sklearn.metrics.accuracy_score(BNBpredictions,test_labels))\n",
    "print \"SKLearn calc accuracy (true diag B):\\t%.2f%%\" % float(100*sklearn.metrics.accuracy_score(BNBpredictions[test_labels.diagnosis_M.values==0],test_labels[test_labels.diagnosis_M.values==0]))\n",
    "print \"SKLearn calc accuracy (true diag M):\\t%.2f%%\" % float(100*sklearn.metrics.accuracy_score(BNBpredictions[test_labels.diagnosis_M.values==1],test_labels[test_labels.diagnosis_M.values==1]))\n",
    "print \"SKLearn calc f1 score:\\t%.2f\" % sklearn.metrics.f1_score(BNBpredictions,test_labels)\n"
   ]
  },
  {
   "cell_type": "markdown",
   "metadata": {},
   "source": [
    "### Accuracy: 57%"
   ]
  },
  {
   "cell_type": "markdown",
   "metadata": {},
   "source": [
    "### Results:"
   ]
  },
  {
   "cell_type": "markdown",
   "metadata": {},
   "source": [
    "Clearly, treating the predictors as potential binary inputs does not work very well, even with normalization. The model here heavily overfits to the negative (Benign) data, leading to poor overall and true positive (Malignant) accuracy. \n",
    "\n",
    "The default BNB model in SKLearn uses a 0.5 binarization level. But, as we saw in the histograms, the separation point between positive (Malignant) and negative (Benign) datapoints is not at the 0.5 level. Here, we can improve the model by adjusting the binarization level. In the LR model, we were adjusting the binarization on the final output. Here, we'll be adjusting the binarization on the inputs."
   ]
  },
  {
   "cell_type": "markdown",
   "metadata": {},
   "source": [
    "### Optimization:"
   ]
  },
  {
   "cell_type": "code",
   "execution_count": 24,
   "metadata": {
    "collapsed": false
   },
   "outputs": [
    {
     "name": "stdout",
     "output_type": "stream",
     "text": [
      "SKLearn calc accuracy:\t\t\t92.44%\n",
      "SKLearn calc accuracy (true diag B):\t98.53%\n",
      "SKLearn calc accuracy (true diag M):\t84.31%\n",
      "SKLearn calc f1 score:\t0.91\n"
     ]
    }
   ],
   "source": [
    "bc_BNB = BernoulliNB(binarize=0.33)\n",
    "\n",
    "bc_BNB.fit(train_data.values,train_labels.values.ravel())\n",
    "predictions = bc_BNB.predict(test_data.values)\n",
    "\n",
    "print \"SKLearn calc accuracy:\\t\\t\\t%.2f%%\" % float(100*sklearn.metrics.accuracy_score(predictions,test_labels))\n",
    "print \"SKLearn calc accuracy (true diag B):\\t%.2f%%\" % float(100*sklearn.metrics.accuracy_score(predictions[test_labels.diagnosis_M.values==0],test_labels[test_labels.diagnosis_M.values==0]))\n",
    "print \"SKLearn calc accuracy (true diag M):\\t%.2f%%\" % float(100*sklearn.metrics.accuracy_score(predictions[test_labels.diagnosis_M.values==1],test_labels[test_labels.diagnosis_M.values==1]))\n",
    "print \"SKLearn calc f1 score:\\t%.2f\" % sklearn.metrics.f1_score(predictions,test_labels)\n",
    "\n"
   ]
  },
  {
   "cell_type": "markdown",
   "metadata": {},
   "source": [
    "### Accuracy (Optimized): 92%"
   ]
  },
  {
   "cell_type": "markdown",
   "metadata": {},
   "source": [
    "Simply changing adjusting the binarization level to a more appropriate binarization level increases the overall accuracy of the BNB model, as well as balancing the true positive and true negative accuracies. However, it still performs poorly. Part of the reason for this is because a BNB model applies the same binarization level to all inputs.\n",
    "\n",
    "We can try a variation of it, a Gaussian Naive Bayes (GNB), which uses a separate Gaussian model for each input independently, allowing for different binarization levels for different inputs."
   ]
  },
  {
   "cell_type": "markdown",
   "metadata": {},
   "source": [
    "## Gaussian Naive Bayes:"
   ]
  },
  {
   "cell_type": "code",
   "execution_count": 32,
   "metadata": {
    "collapsed": false
   },
   "outputs": [
    {
     "name": "stdout",
     "output_type": "stream",
     "text": [
      "SKLearn calc accuracy:\t\t\t93.28%\n",
      "SKLearn calc accuracy (true diag B):\t98.53%\n",
      "SKLearn calc accuracy (true diag M):\t86.27%\n",
      "SKLearn calc f1 score:\t0.92\n"
     ]
    }
   ],
   "source": [
    "from sklearn.naive_bayes import GaussianNB\n",
    "\n",
    "bc_GNB = GaussianNB()\n",
    "#print train_data.shape\n",
    "#print train_labels.shape\n",
    "#print test_data.shape\n",
    "#print test_labels.shape\n",
    "bc_GNB.fit(train_data.values,train_labels.values.ravel())\n",
    "GNBpredictions = bc_GNB.predict(test_data.values)\n",
    "\n",
    "print \"SKLearn calc accuracy:\\t\\t\\t%.2f%%\" % float(100*sklearn.metrics.accuracy_score(GNBpredictions,test_labels))\n",
    "print \"SKLearn calc accuracy (true diag B):\\t%.2f%%\" % float(100*sklearn.metrics.accuracy_score(GNBpredictions[test_labels.diagnosis_M.values==0],test_labels[test_labels.diagnosis_M.values==0]))\n",
    "print \"SKLearn calc accuracy (true diag M):\\t%.2f%%\" % float(100*sklearn.metrics.accuracy_score(GNBpredictions[test_labels.diagnosis_M.values==1],test_labels[test_labels.diagnosis_M.values==1]))\n",
    "print \"SKLearn calc f1 score:\\t%.2f\" % sklearn.metrics.f1_score(GNBpredictions,test_labels)"
   ]
  },
  {
   "cell_type": "markdown",
   "metadata": {},
   "source": [
    "### Accuracy: 93%"
   ]
  },
  {
   "cell_type": "markdown",
   "metadata": {},
   "source": [
    "## Results:"
   ]
  },
  {
   "cell_type": "markdown",
   "metadata": {},
   "source": [
    "The GNB model works better, but still not as well as the LR model, suggesting that the inputs do not binarize particularly well. In other words, the data is better treated as continuous, not binary, in nature. With an SKLearn GNB model, we can see which features factor more into the results. Since we normalized the inputs, we can compare the expected outputs for each class, and look at the ones with the greatest difference."
   ]
  },
  {
   "cell_type": "markdown",
   "metadata": {},
   "source": [
    "### Finding the Important Features:"
   ]
  },
  {
   "cell_type": "code",
   "execution_count": 37,
   "metadata": {
    "collapsed": false
   },
   "outputs": [
    {
     "name": "stdout",
     "output_type": "stream",
     "text": [
      "\n",
      "0 \t0.243\t\t\t0.507\t\t\tdiff: 0.26\tradius_mean\n",
      "\n",
      "1 \t0.278\t\t\t0.402\t\t\tdiff: 0.12\tradius_sd_error\n",
      "\n",
      "2 \t0.236\t\t\t0.506\t\t\tdiff: 0.27\tradius_worst\n",
      "\n",
      "3 \t0.134\t\t\t0.365\t\t\tdiff: 0.23\ttexture_mean\n",
      "\n",
      "4 \t0.357\t\t\t0.450\t\t\tdiff: 0.09\ttexture_sd_error\n",
      "\n",
      "5 \t0.186\t\t\t0.387\t\t\tdiff: 0.20\ttexture_worst\n",
      "\n",
      "6 \t0.112\t\t\t0.380\t\t\tdiff: 0.27\tperimeter_mean\n",
      "\n",
      "7 \t0.130\t\t\t0.444\t\t\tdiff: 0.31\tperimeter_sd_error\n",
      "\n",
      "8 \t0.345\t\t\t0.438\t\t\tdiff: 0.09\tperimeter_worst\n",
      "\n",
      "9 \t0.273\t\t\t0.263\t\t\tdiff: -0.01\tarea_mean\n",
      "\n",
      "10 \t0.063\t\t\t0.194\t\t\tdiff: 0.13\tarea_sd_error\n",
      "\n",
      "11 \t0.190\t\t\t0.187\t\t\tdiff: -0.00\tarea_worst\n",
      "\n",
      "12 \t0.059\t\t\t0.180\t\t\tdiff: 0.12\tsmoothness_mean\n",
      "\n",
      "13 \t0.027\t\t\t0.134\t\t\tdiff: 0.11\tsmoothness_sd_error\n",
      "\n",
      "14 \t0.183\t\t\t0.174\t\t\tdiff: -0.01\tsmoothness_worst\n",
      "\n",
      "15 \t0.148\t\t\t0.227\t\t\tdiff: 0.08\tcompactness_mean\n",
      "\n",
      "16 \t0.068\t\t\t0.106\t\t\tdiff: 0.04\tcompactness_sd_error\n",
      "\n",
      "17 \t0.192\t\t\t0.291\t\t\tdiff: 0.10\tcompactness_worst\n",
      "\n",
      "18 \t0.177\t\t\t0.174\t\t\tdiff: -0.00\tconcavity_mean\n",
      "\n",
      "19 \t0.097\t\t\t0.111\t\t\tdiff: 0.01\tconcavity_sd_error\n",
      "\n",
      "20 \t0.193\t\t\t0.481\t\t\tdiff: 0.29\tconcavity_worst\n",
      "\n",
      "21 \t0.307\t\t\t0.454\t\t\tdiff: 0.15\tconcave_points_mean\n",
      "\n",
      "22 \t0.181\t\t\t0.464\t\t\tdiff: 0.28\tconcave_points_sd_error\n",
      "\n",
      "23 \t0.091\t\t\t0.314\t\t\tdiff: 0.22\tconcave_points_worst\n",
      "\n",
      "24 \t0.351\t\t\t0.477\t\t\tdiff: 0.13\tsymmetry_mean\n",
      "\n",
      "25 \t0.153\t\t\t0.333\t\t\tdiff: 0.18\tsymmetry_sd_error\n",
      "\n",
      "26 \t0.137\t\t\t0.356\t\t\tdiff: 0.22\tsymmetry_worst\n",
      "\n",
      "27 \t0.260\t\t\t0.629\t\t\tdiff: 0.37\tfractal_dimension_mean\n",
      "\n",
      "28 \t0.225\t\t\t0.321\t\t\tdiff: 0.10\tfractal_dimension_sd_error\n",
      "\n",
      "29 \t0.161\t\t\t0.233\t\t\tdiff: 0.07\tfractal_dimension_worst\n",
      "\n",
      "\n",
      "Strongest Predictor:\tfractal_dimension_mean\t@index[27], expected difference:\t0.369\n",
      "Second Predictor:\tperimeter_sd_error\t@index[7], expected difference:\t0.314\n"
     ]
    }
   ],
   "source": [
    "wdiff = []\n",
    "for i,weights in enumerate(bc_GNB.theta_.transpose()):\n",
    "    print \"\\n\",i,\n",
    "    a=[]\n",
    "    for weight in weights:\n",
    "        a.append(weight)\n",
    "        print \"\\t%.3f\\t\\t\" % float(weight),\n",
    "    wdiff.append(a[1]-a[0])\n",
    "    print \"\\tdiff: %.2f\\t\" %(wdiff[i]),\n",
    "    print train_data.columns[i]\n",
    "\n",
    "print \"\\n\"\n",
    "\n",
    "maxval = max(wdiff)\n",
    "maxindex = wdiff.index(maxval)\n",
    "print \"Strongest Predictor:\\t%s\\t@index[%.0f], expected difference:\\t%.3f\" % (train_data.columns[maxindex],maxindex,maxval)\n",
    "\n",
    "wdiff[maxindex]=0\n",
    "maxval = max(wdiff)\n",
    "maxindex = wdiff.index(maxval)\n",
    "print \"Second Predictor:\\t%s\\t@index[%.0f], expected difference:\\t%.3f\" % (train_data.columns[maxindex],maxindex,maxval)\n",
    "\n",
    "\n",
    "#minval = min(wdiff)\n",
    "#minindex = wdiff.index(minval)\n",
    "#print \"Max Neg Correlation, expected difference:\",train_data.columns[minindex], \"@index[%.0f]:\\t%.3f\" % (minindex,minval)"
   ]
  },
  {
   "cell_type": "markdown",
   "metadata": {},
   "source": [
    "We can see the two largest contributors (above) in the GNB model. However, the SKLearn implementation of this model doesn't allow for much optimization. Comparing our \"optimized\" LR with our GNB, we see the LR model performs slightly better overall, and much better with balancing the accuracy of the classes (maximizing F-score)."
   ]
  },
  {
   "cell_type": "code",
   "execution_count": 34,
   "metadata": {
    "collapsed": false
   },
   "outputs": [
    {
     "name": "stdout",
     "output_type": "stream",
     "text": [
      "LR Model:\n",
      "SKLearn calc accuracy:\t\t\t94.12%\n",
      "SKLearn calc accuracy (true diag B):\t100.00%\n",
      "SKLearn calc accuracy (true diag M):\t86.27%\n",
      "SKLearn calc f1 score:\t0.93\n",
      "\n",
      "\n",
      "GNB Model:\n",
      "SKLearn calc accuracy:\t\t\t93.28%\n",
      "SKLearn calc accuracy (true diag B):\t98.53%\n",
      "SKLearn calc accuracy (true diag M):\t86.27%\n",
      "SKLearn calc f1 score:\t0.92\n"
     ]
    }
   ],
   "source": [
    "print \"LR Model:\"\n",
    "print \"SKLearn calc accuracy:\\t\\t\\t%.2f%%\" % float(100*sklearn.metrics.accuracy_score(LRpredictions,test_labels))\n",
    "print \"SKLearn calc accuracy (true diag B):\\t%.2f%%\" % float(100*sklearn.metrics.accuracy_score(LRpredictions[test_labels.diagnosis_M.values==0],test_labels[test_labels.diagnosis_M.values==0]))\n",
    "print \"SKLearn calc accuracy (true diag M):\\t%.2f%%\" % float(100*sklearn.metrics.accuracy_score(LRpredictions[test_labels.diagnosis_M.values==1],test_labels[test_labels.diagnosis_M.values==1]))\n",
    "print \"SKLearn calc f1 score:\\t%.2f\" % sklearn.metrics.f1_score(LRpredictions,test_labels)\n",
    "\n",
    "print \"\\n\"\n",
    "\n",
    "print \"GNB Model:\"\n",
    "print \"SKLearn calc accuracy:\\t\\t\\t%.2f%%\" % float(100*sklearn.metrics.accuracy_score(GNBpredictions,test_labels))\n",
    "print \"SKLearn calc accuracy (true diag B):\\t%.2f%%\" % float(100*sklearn.metrics.accuracy_score(GNBpredictions[test_labels.diagnosis_M.values==0],test_labels[test_labels.diagnosis_M.values==0]))\n",
    "print \"SKLearn calc accuracy (true diag M):\\t%.2f%%\" % float(100*sklearn.metrics.accuracy_score(GNBpredictions[test_labels.diagnosis_M.values==1],test_labels[test_labels.diagnosis_M.values==1]))\n",
    "print \"SKLearn calc f1 score:\\t%.2f\" % sklearn.metrics.f1_score(GNBpredictions,test_labels)\n"
   ]
  },
  {
   "cell_type": "markdown",
   "metadata": {
    "collapsed": true
   },
   "source": [
    "### Overview:\n",
    "\n",
    "#### Non-Technical\n",
    "These models show two different approaches to modeling the data. The Linear Regression (LR) model treats the data as continuous and fits a simple linear regression to estimate the final value, which then needs to be binarized to determine if it should represent Malignant or Benign. Both Naive Bayes (NB) models binarize the inputs, then calculate the expected class (Malignant or Benign). The LR model performs better than either NB model because the data is continuous and too much information is lost by binarizing on the input. NB models generally work better with discrete data, such as with simple NLP (word is either present or not present) or with categorical (non-continuous) inputs.\n",
    "\n",
    "In this example, \n",
    "\n",
    "\n",
    "#### Overview (Technical)\n",
    "The LR model works best for two reasons. The first is that the data (predictors/features) is continuous in nature, so a model that doesn't force binarization works better, since less \"information\" is lost. The second reason is that a LR model does a better job avoiding overfitting non-independent predictors. In reality, it's unlikely that these predictors are independent of each other, which is a presumption of all 3 models. As a result, the NB models are more likely to overfit the data, though the LR model did so as well before we adjusted it by hand.\n",
    "\n",
    "The more accurate model, LR, works by fitting the coefficients to minimize the loss function (or, in LR, simply the error function) to the training data. If the final result is closer to 1, it predicts True (Malignant), and 0 predicts False (Benign). However, since the distribution of the predictor variables are not linearly distributed (rather, they fit something that looks closer to a Chi Squared distribution), the overall model performs better using a non-linear final binarization step. (A 0.33 binarization level, instead of a 0.5 binarization level.)\n",
    "\n",
    "\n",
    "A limitations of the analysis here, is in the optimization. A true optimization would split the test data further into test and dev data. The optimization would be done with the dev data, and the test data would only be used for the final scoring. \n",
    "\n",
    "(This analysis doesn't truly optimize the parameters, just estimates a \"better than baseline\" parameter based on a qualitative analysis of the histograms. A proper optimization with dev data would probably yield higher accuracies/scores.)\n",
    "\n",
    "Also, the Malignant case is not as well represented in the dataset. Oversampling the minority class would better balance the model, and avoid minimizing the cost fuction by favoring the majority class's accuracy."
   ]
  },
  {
   "cell_type": "markdown",
   "metadata": {},
   "source": [
    "# Part 2: Student Code Evaluation"
   ]
  },
  {
   "cell_type": "markdown",
   "metadata": {},
   "source": [
    "## Student 1, code: corrections and comments"
   ]
  },
  {
   "cell_type": "code",
   "execution_count": null,
   "metadata": {
    "collapsed": true
   },
   "outputs": [],
   "source": [
    "#!/usr/bin/env python\n",
    "\n",
    "import pandas as pd\n",
    "import numpy as np\n",
    "from sklearn import LinearRegression\n",
    "#CORRECED: from sklearn.linear_model import LinearRegression\n",
    "#FEEDBACK: This is the wrong import command. LinearRegression is \n",
    "#part of sklearn.linear_model, not part of the root sklearn library\n",
    "from sklearn.cross_validation import cross_val_score\n",
    "\n",
    "# Load data\n",
    "d = pd.read_csv('train.csv')\n",
    "\n",
    "\n",
    "# Setup data for prediction\n",
    "x1 = data.SalaryNormalized\n",
    "x2 = pd.get_dummies(data.ContractType)\n",
    "#FEEDBACK: avoid using non-descriptive variable names. Also, x1 is your \n",
    "#outcome variable, and x2 is you predictor variable, so y,x (respectively)\n",
    "#would work, but ideally should be something that makes it easier to follow\n",
    "#without having to go back to the original definition/assignment\n",
    "\n",
    "# Setup model\n",
    "model = LinearRegression()\n",
    "\n",
    "# Evaluate model\n",
    "#FEEDBACK: all imports should be done at the begining of a .py script/file\n",
    "from sklearn.cross_validation import cross_val_score\n",
    "from sklearn.cross_validation import train_test_split\n",
    "scores = cross_val_score(model, x2, x1, cv=1, scoring='mean_absolute_error')\n",
    "#CORRECTED: scores = cross_val_score(model, x2, x1, cv=5, scoring='mean_absolute_error')\n",
    "#FEEDBACK: Cross validation requires splitting the data into subsets. A cv=1 would mean one-fold cross validation\n",
    "#or, technically, no cross validation. The default for this function is 3; requires cv=2 or greater\n",
    "\n",
    "print(scores.mean())\n",
    "\n"
   ]
  },
  {
   "cell_type": "markdown",
   "metadata": {},
   "source": [
    "## Student 1, Feedback"
   ]
  },
  {
   "cell_type": "markdown",
   "metadata": {},
   "source": [
    "Student 1\n",
    "\n",
    "Code\n",
    "\n",
    "The code does not run (see corrections and comments inline). There are errors in importing libraries/functions, as well as imports not placed at the top of the .py file. \n",
    "\n",
    "\n",
    "Methodology\n",
    "\n",
    "The setup and methodology is pretty straight forward, and there don't seem to be issues here. However, there are some concerns about the student's understanding of the methodology since the code would not actually work if ran (using single-fold cross validation, which if it did work, would not give more than a single score, and there is a mean(scores) line at the end. The biggest concern is in submitting non-working code, which would indicate that the student's methodology doesn't include testing and debugging, which is vital for more complex assignments or any data science in the industry.\n",
    "\n",
    "Conceptual Understanding\n",
    "\n",
    "The student does not seem to understand the concept of cross validation, and should review the material as well as the python documentation on the cross_val_score function. Also, there may be a lack of understanding with predictor vs. outcome variables, based on the variable naming.\n"
   ]
  },
  {
   "cell_type": "markdown",
   "metadata": {},
   "source": [
    "## Student 2, code: corrections and comments"
   ]
  },
  {
   "cell_type": "code",
   "execution_count": null,
   "metadata": {
    "collapsed": true
   },
   "outputs": [],
   "source": [
    "#!/usr/bin/env python\n",
    "\n",
    "import pandas as pd\n",
    "import numpy as np\n",
    "from sklearn.linear_model import LinearRegression\n",
    "\n",
    "from sklearn.cross_validation import cross_val_score\n",
    "\n",
    "# Load data\n",
    "data = pd.read_csv('train.csv')\n",
    "\n",
    "\n",
    "# Setup data for prediction\n",
    "y = data.SalaryNormalized\n",
    "X = pd.get_dummies(data.ContractType)\n",
    "#FEEDBACK: avoid single letter variable names, and try for more descriptive names\n",
    "#This will make the code easier to read, especially in longer codes/projects\n",
    "\n",
    "# Setup model\n",
    "model = LinearRegression()\n",
    "\n",
    "# Evaluate model\n",
    "scores = cross_val_score(model, X, y, cv=5, scoring='mean_absolute_error')\n",
    "print(scores.mean())"
   ]
  },
  {
   "cell_type": "markdown",
   "metadata": {},
   "source": [
    "## Student 2, Feedback"
   ]
  },
  {
   "cell_type": "markdown",
   "metadata": {},
   "source": [
    "Student 2\n",
    "\n",
    "Code\n",
    "\n",
    "library usage and imports are solid. The code runs as expected. I would suggest better/more descriptive variable names, and avoid generic ones like 'data'\n",
    "\n",
    "Methodology\n",
    "\n",
    "Variable naming (data, x,y) is an issue. Python is written in a way that allows it to be readable even by non-programmers, which is a huge benefit when working in cross-functional teams. However, production Python code will likely involve multiple scripts (py files), and it would be a huge benefit to use naming schemes that allow a non-technical user to understand the code without having to find the variable declarations to know what they mean.\n",
    "\n",
    "Conceptual Understanding\n",
    "\n",
    "The student seems to have a good grasp on the methodology and concepts, and writes concise code."
   ]
  },
  {
   "cell_type": "code",
   "execution_count": null,
   "metadata": {
    "collapsed": true
   },
   "outputs": [],
   "source": []
  }
 ],
 "metadata": {
  "kernelspec": {
   "display_name": "Python 2",
   "language": "python",
   "name": "python2"
  },
  "language_info": {
   "codemirror_mode": {
    "name": "ipython",
    "version": 2
   },
   "file_extension": ".py",
   "mimetype": "text/x-python",
   "name": "python",
   "nbconvert_exporter": "python",
   "pygments_lexer": "ipython2",
   "version": "2.7.11"
  }
 },
 "nbformat": 4,
 "nbformat_minor": 0
}
